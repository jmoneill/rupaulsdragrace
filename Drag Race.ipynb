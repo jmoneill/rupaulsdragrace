{
 "cells": [
  {
   "cell_type": "markdown",
   "metadata": {},
   "source": [
    "# Rupaul's Drag Race Machine"
   ]
  },
  {
   "cell_type": "code",
   "execution_count": 30,
   "metadata": {
    "collapsed": false
   },
   "outputs": [],
   "source": [
    "#%matplotlib inline\n",
    "\n",
    "import pandas as pd\n",
    "import numpy as np\n",
    "import math\n",
    "from scipy.stats import rankdata, kendalltau\n",
    "from sklearn.preprocessing import scale\n",
    "import matplotlib.pyplot as plt\n",
    "\n",
    "theData = pd.read_csv(\"dragrace.csv\")\n",
    "theData= theData.fillna(0)\n",
    "#theData.iloc[1:10,:]"
   ]
  },
  {
   "cell_type": "code",
   "execution_count": 31,
   "metadata": {
    "collapsed": false
   },
   "outputs": [],
   "source": [
    "queens = theData.groupby('Name').max()\n",
    "queens = queens.reset_index(drop=False)\n",
    "#queens.iloc[1:10,:]"
   ]
  },
  {
   "cell_type": "code",
   "execution_count": 32,
   "metadata": {
    "collapsed": true
   },
   "outputs": [],
   "source": [
    "# create a function to scale the data for us\n",
    "def scaleQueens(df):\n",
    "    \"\"\"Scale Age, Wins, Highs, Lows, and Lipsyncs in feature data frames\"\"\"\n",
    "    df = df.copy(deep=True)\n",
    "    df['Age'] = scale(df['Age'])\n",
    "    df['Wins'] = scale(df['Wins'])\n",
    "    df['Highs'] = scale(df['Highs'])\n",
    "    df['Lows'] = scale(df['Lows'])\n",
    "    df['Lipsyncs'] = scale(df['Lipsyncs'])\n",
    "    df['Season'] = df['Season']/8\n",
    "    return df"
   ]
  },
  {
   "cell_type": "code",
   "execution_count": 33,
   "metadata": {
    "collapsed": true
   },
   "outputs": [],
   "source": [
    "def compareRanks(x,y):\n",
    "    x=np.asarray(x)\n",
    "    y=np.asarray(y)\n",
    "    numRanks = np.append(x,y).max()\n",
    "    actual=np.sum(np.square(x-y))\n",
    "    worst=np.sum(np.square(np.sort(x)-np.sort(x)[::-1]))\n",
    "    return 1-2*(actual/worst)"
   ]
  },
  {
   "cell_type": "code",
   "execution_count": 34,
   "metadata": {
    "collapsed": false
   },
   "outputs": [],
   "source": [
    "Xtrain = queens.loc[queens.Season<7,['Age','PuertoRico','PlusSize','Wins','Highs','Lows','Lipsyncs','Season']]\n",
    "Xtrain.reset_index(drop=True)\n",
    "Xtest = queens.loc[queens.Season==7,['Age','PuertoRico','PlusSize','Wins','Highs','Lows','Lipsyncs','Season']]\n",
    "Xtest.reset_index(drop=True)\n",
    "ytrain = queens.loc[queens.Season<7,'Place']\n",
    "ytrain.reset_index(drop=True)\n",
    "ytest = queens.loc[queens.Season==7,'Place']\n",
    "ytest.reset_index(drop=True)\n",
    "season8X = queens.loc[queens.Season==8,['Age','PuertoRico','PlusSize','Wins','Highs','Lows','Lipsyncs','Season']]\n",
    "season8y = queens.loc[queens.Season==8,'Place']\n",
    "season7 = queens.loc[queens.Season==7,['Name','Place']]\n",
    "season7.columns = ['Name','Actual']\n",
    "season7 = season7.reset_index(drop=True)\n",
    "season8 = queens.loc[queens.Season==8,['Name','Place']]\n",
    "season8.columns = ['Name','Actual']\n",
    "season8 = season8.reset_index(drop=True)"
   ]
  },
  {
   "cell_type": "code",
   "execution_count": 35,
   "metadata": {
    "collapsed": false
   },
   "outputs": [
    {
     "name": "stderr",
     "output_type": "stream",
     "text": [
      "/Users/thomas/anaconda/lib/python3.5/site-packages/sklearn/utils/validation.py:420: DataConversionWarning: Data with input dtype int64 was converted to float64 by the scale function.\n",
      "  warnings.warn(msg, DataConversionWarning)\n",
      "/Users/thomas/anaconda/lib/python3.5/site-packages/sklearn/utils/validation.py:420: DataConversionWarning: Data with input dtype int64 was converted to float64 by the scale function.\n",
      "  warnings.warn(msg, DataConversionWarning)\n",
      "/Users/thomas/anaconda/lib/python3.5/site-packages/sklearn/utils/validation.py:420: DataConversionWarning: Data with input dtype int64 was converted to float64 by the scale function.\n",
      "  warnings.warn(msg, DataConversionWarning)\n"
     ]
    },
    {
     "data": {
      "text/html": [
       "<div>\n",
       "<table border=\"1\" class=\"dataframe\">\n",
       "  <thead>\n",
       "    <tr style=\"text-align: right;\">\n",
       "      <th></th>\n",
       "      <th>Age</th>\n",
       "      <th>PuertoRico</th>\n",
       "      <th>PlusSize</th>\n",
       "      <th>Wins</th>\n",
       "      <th>Highs</th>\n",
       "      <th>Lows</th>\n",
       "      <th>Lipsyncs</th>\n",
       "      <th>Season</th>\n",
       "    </tr>\n",
       "  </thead>\n",
       "  <tbody>\n",
       "    <tr>\n",
       "      <th>25</th>\n",
       "      <td>-0.147878</td>\n",
       "      <td>0</td>\n",
       "      <td>1</td>\n",
       "      <td>1.658597</td>\n",
       "      <td>1.048809</td>\n",
       "      <td>-0.650945</td>\n",
       "      <td>0.68313</td>\n",
       "      <td>0.875</td>\n",
       "    </tr>\n",
       "    <tr>\n",
       "      <th>31</th>\n",
       "      <td>-0.699958</td>\n",
       "      <td>0</td>\n",
       "      <td>1</td>\n",
       "      <td>-0.921443</td>\n",
       "      <td>1.048809</td>\n",
       "      <td>-0.650945</td>\n",
       "      <td>2.04939</td>\n",
       "      <td>0.875</td>\n",
       "    </tr>\n",
       "    <tr>\n",
       "      <th>32</th>\n",
       "      <td>0.956280</td>\n",
       "      <td>0</td>\n",
       "      <td>0</td>\n",
       "      <td>-0.921443</td>\n",
       "      <td>-0.953463</td>\n",
       "      <td>0.260378</td>\n",
       "      <td>-0.68313</td>\n",
       "      <td>0.875</td>\n",
       "    </tr>\n",
       "    <tr>\n",
       "      <th>38</th>\n",
       "      <td>-0.285898</td>\n",
       "      <td>1</td>\n",
       "      <td>0</td>\n",
       "      <td>-0.921443</td>\n",
       "      <td>-0.953463</td>\n",
       "      <td>0.260378</td>\n",
       "      <td>0.68313</td>\n",
       "      <td>0.875</td>\n",
       "    </tr>\n",
       "    <tr>\n",
       "      <th>39</th>\n",
       "      <td>0.266181</td>\n",
       "      <td>0</td>\n",
       "      <td>0</td>\n",
       "      <td>0.798584</td>\n",
       "      <td>1.716233</td>\n",
       "      <td>-0.650945</td>\n",
       "      <td>0.68313</td>\n",
       "      <td>0.875</td>\n",
       "    </tr>\n",
       "    <tr>\n",
       "      <th>41</th>\n",
       "      <td>0.404201</td>\n",
       "      <td>0</td>\n",
       "      <td>0</td>\n",
       "      <td>0.798584</td>\n",
       "      <td>1.716233</td>\n",
       "      <td>-0.650945</td>\n",
       "      <td>0.68313</td>\n",
       "      <td>0.875</td>\n",
       "    </tr>\n",
       "    <tr>\n",
       "      <th>53</th>\n",
       "      <td>-1.114017</td>\n",
       "      <td>0</td>\n",
       "      <td>0</td>\n",
       "      <td>0.798584</td>\n",
       "      <td>-0.953463</td>\n",
       "      <td>-0.650945</td>\n",
       "      <td>-0.68313</td>\n",
       "      <td>0.875</td>\n",
       "    </tr>\n",
       "    <tr>\n",
       "      <th>57</th>\n",
       "      <td>-0.147878</td>\n",
       "      <td>0</td>\n",
       "      <td>0</td>\n",
       "      <td>-0.921443</td>\n",
       "      <td>0.381385</td>\n",
       "      <td>2.994345</td>\n",
       "      <td>-0.68313</td>\n",
       "      <td>0.875</td>\n",
       "    </tr>\n",
       "    <tr>\n",
       "      <th>60</th>\n",
       "      <td>1.784399</td>\n",
       "      <td>0</td>\n",
       "      <td>0</td>\n",
       "      <td>-0.921443</td>\n",
       "      <td>0.381385</td>\n",
       "      <td>-0.650945</td>\n",
       "      <td>-0.68313</td>\n",
       "      <td>0.875</td>\n",
       "    </tr>\n",
       "    <tr>\n",
       "      <th>68</th>\n",
       "      <td>-0.975997</td>\n",
       "      <td>0</td>\n",
       "      <td>0</td>\n",
       "      <td>0.798584</td>\n",
       "      <td>-0.953463</td>\n",
       "      <td>0.260378</td>\n",
       "      <td>0.68313</td>\n",
       "      <td>0.875</td>\n",
       "    </tr>\n",
       "    <tr>\n",
       "      <th>78</th>\n",
       "      <td>-0.285898</td>\n",
       "      <td>0</td>\n",
       "      <td>0</td>\n",
       "      <td>-0.921443</td>\n",
       "      <td>-0.953463</td>\n",
       "      <td>0.260378</td>\n",
       "      <td>-0.68313</td>\n",
       "      <td>0.875</td>\n",
       "    </tr>\n",
       "    <tr>\n",
       "      <th>87</th>\n",
       "      <td>2.198459</td>\n",
       "      <td>0</td>\n",
       "      <td>0</td>\n",
       "      <td>-0.921443</td>\n",
       "      <td>-0.953463</td>\n",
       "      <td>-0.650945</td>\n",
       "      <td>-0.68313</td>\n",
       "      <td>0.875</td>\n",
       "    </tr>\n",
       "    <tr>\n",
       "      <th>91</th>\n",
       "      <td>-0.837977</td>\n",
       "      <td>0</td>\n",
       "      <td>0</td>\n",
       "      <td>-0.061430</td>\n",
       "      <td>-0.286039</td>\n",
       "      <td>-0.650945</td>\n",
       "      <td>0.68313</td>\n",
       "      <td>0.875</td>\n",
       "    </tr>\n",
       "    <tr>\n",
       "      <th>97</th>\n",
       "      <td>-1.114017</td>\n",
       "      <td>0</td>\n",
       "      <td>0</td>\n",
       "      <td>1.658597</td>\n",
       "      <td>-0.286039</td>\n",
       "      <td>1.171700</td>\n",
       "      <td>-2.04939</td>\n",
       "      <td>0.875</td>\n",
       "    </tr>\n",
       "  </tbody>\n",
       "</table>\n",
       "</div>"
      ],
      "text/plain": [
       "         Age  PuertoRico  PlusSize      Wins     Highs      Lows  Lipsyncs  \\\n",
       "25 -0.147878           0         1  1.658597  1.048809 -0.650945   0.68313   \n",
       "31 -0.699958           0         1 -0.921443  1.048809 -0.650945   2.04939   \n",
       "32  0.956280           0         0 -0.921443 -0.953463  0.260378  -0.68313   \n",
       "38 -0.285898           1         0 -0.921443 -0.953463  0.260378   0.68313   \n",
       "39  0.266181           0         0  0.798584  1.716233 -0.650945   0.68313   \n",
       "41  0.404201           0         0  0.798584  1.716233 -0.650945   0.68313   \n",
       "53 -1.114017           0         0  0.798584 -0.953463 -0.650945  -0.68313   \n",
       "57 -0.147878           0         0 -0.921443  0.381385  2.994345  -0.68313   \n",
       "60  1.784399           0         0 -0.921443  0.381385 -0.650945  -0.68313   \n",
       "68 -0.975997           0         0  0.798584 -0.953463  0.260378   0.68313   \n",
       "78 -0.285898           0         0 -0.921443 -0.953463  0.260378  -0.68313   \n",
       "87  2.198459           0         0 -0.921443 -0.953463 -0.650945  -0.68313   \n",
       "91 -0.837977           0         0 -0.061430 -0.286039 -0.650945   0.68313   \n",
       "97 -1.114017           0         0  1.658597 -0.286039  1.171700  -2.04939   \n",
       "\n",
       "    Season  \n",
       "25   0.875  \n",
       "31   0.875  \n",
       "32   0.875  \n",
       "38   0.875  \n",
       "39   0.875  \n",
       "41   0.875  \n",
       "53   0.875  \n",
       "57   0.875  \n",
       "60   0.875  \n",
       "68   0.875  \n",
       "78   0.875  \n",
       "87   0.875  \n",
       "91   0.875  \n",
       "97   0.875  "
      ]
     },
     "execution_count": 35,
     "metadata": {},
     "output_type": "execute_result"
    }
   ],
   "source": [
    "XtrainS = scaleQueens(Xtrain)\n",
    "XtestS = scaleQueens(Xtest)\n",
    "season8XS = scaleQueens(season8X)\n",
    "XtestS"
   ]
  },
  {
   "cell_type": "markdown",
   "metadata": {
    "collapsed": true
   },
   "source": [
    "# Support Vector Machine Classifier"
   ]
  },
  {
   "cell_type": "code",
   "execution_count": 36,
   "metadata": {
    "collapsed": false
   },
   "outputs": [
    {
     "data": {
      "text/html": [
       "<div>\n",
       "<table border=\"1\" class=\"dataframe\">\n",
       "  <thead>\n",
       "    <tr style=\"text-align: right;\">\n",
       "      <th></th>\n",
       "      <th>Name</th>\n",
       "      <th>Actual</th>\n",
       "      <th>Predicted</th>\n",
       "    </tr>\n",
       "  </thead>\n",
       "  <tbody>\n",
       "    <tr>\n",
       "      <th>13</th>\n",
       "      <td>Voilet Chachki</td>\n",
       "      <td>1</td>\n",
       "      <td>1</td>\n",
       "    </tr>\n",
       "    <tr>\n",
       "      <th>0</th>\n",
       "      <td>Ginger Minj</td>\n",
       "      <td>2</td>\n",
       "      <td>2</td>\n",
       "    </tr>\n",
       "    <tr>\n",
       "      <th>9</th>\n",
       "      <td>Pearl</td>\n",
       "      <td>3</td>\n",
       "      <td>7</td>\n",
       "    </tr>\n",
       "    <tr>\n",
       "      <th>5</th>\n",
       "      <td>Kennedy Davenport</td>\n",
       "      <td>4</td>\n",
       "      <td>2</td>\n",
       "    </tr>\n",
       "    <tr>\n",
       "      <th>4</th>\n",
       "      <td>Katya</td>\n",
       "      <td>5</td>\n",
       "      <td>2</td>\n",
       "    </tr>\n",
       "    <tr>\n",
       "      <th>12</th>\n",
       "      <td>Trixie Mattel</td>\n",
       "      <td>6</td>\n",
       "      <td>7</td>\n",
       "    </tr>\n",
       "    <tr>\n",
       "      <th>7</th>\n",
       "      <td>Miss Fame</td>\n",
       "      <td>7</td>\n",
       "      <td>5</td>\n",
       "    </tr>\n",
       "    <tr>\n",
       "      <th>1</th>\n",
       "      <td>Jaidynn Diore Fierce</td>\n",
       "      <td>8</td>\n",
       "      <td>6</td>\n",
       "    </tr>\n",
       "    <tr>\n",
       "      <th>6</th>\n",
       "      <td>Max</td>\n",
       "      <td>9</td>\n",
       "      <td>7</td>\n",
       "    </tr>\n",
       "    <tr>\n",
       "      <th>3</th>\n",
       "      <td>Kandy Ho</td>\n",
       "      <td>10</td>\n",
       "      <td>7</td>\n",
       "    </tr>\n",
       "    <tr>\n",
       "      <th>8</th>\n",
       "      <td>Mrs. Kasha Davis</td>\n",
       "      <td>11</td>\n",
       "      <td>11</td>\n",
       "    </tr>\n",
       "    <tr>\n",
       "      <th>2</th>\n",
       "      <td>Jasmine Masters</td>\n",
       "      <td>12</td>\n",
       "      <td>11</td>\n",
       "    </tr>\n",
       "    <tr>\n",
       "      <th>10</th>\n",
       "      <td>Sasha Belle</td>\n",
       "      <td>13</td>\n",
       "      <td>11</td>\n",
       "    </tr>\n",
       "    <tr>\n",
       "      <th>11</th>\n",
       "      <td>Tempest DuJour</td>\n",
       "      <td>14</td>\n",
       "      <td>11</td>\n",
       "    </tr>\n",
       "  </tbody>\n",
       "</table>\n",
       "</div>"
      ],
      "text/plain": [
       "                    Name  Actual  Predicted\n",
       "13        Voilet Chachki       1          1\n",
       "0            Ginger Minj       2          2\n",
       "9                  Pearl       3          7\n",
       "5      Kennedy Davenport       4          2\n",
       "4                  Katya       5          2\n",
       "12         Trixie Mattel       6          7\n",
       "7              Miss Fame       7          5\n",
       "1   Jaidynn Diore Fierce       8          6\n",
       "6                    Max       9          7\n",
       "3               Kandy Ho      10          7\n",
       "8       Mrs. Kasha Davis      11         11\n",
       "2        Jasmine Masters      12         11\n",
       "10           Sasha Belle      13         11\n",
       "11        Tempest DuJour      14         11"
      ]
     },
     "execution_count": 36,
     "metadata": {},
     "output_type": "execute_result"
    }
   ],
   "source": [
    "from sklearn.svm import SVC\n",
    "model = SVC(kernel='rbf',gamma=0.01,C=10)\n",
    "model.fit(XtrainS,ytrain)\n",
    "\n",
    "yfit = model.predict(XtestS)\n",
    "yfitpd = pd.DataFrame(yfit)\n",
    "yfitpd['Name'] = season7.Name\n",
    "yfitpd.columns = ['Predicted','Name']\n",
    "yfitpd = yfitpd.loc[:,['Name','Predicted']]\n",
    "yfitpd['Predicted'] = rankdata(yfitpd.Predicted,method='min')\n",
    "svc7 = pd.merge(season7,yfitpd).sort_values('Actual')\n",
    "svc7"
   ]
  },
  {
   "cell_type": "code",
   "execution_count": 37,
   "metadata": {
    "collapsed": false
   },
   "outputs": [
    {
     "data": {
      "text/plain": [
       "KendalltauResult(correlation=0.769577712390211, pvalue=0.0001261425150919689)"
      ]
     },
     "execution_count": 37,
     "metadata": {},
     "output_type": "execute_result"
    }
   ],
   "source": [
    "kendalltau(svc7.Actual,svc7.Predicted)"
   ]
  },
  {
   "cell_type": "code",
   "execution_count": 38,
   "metadata": {
    "collapsed": false
   },
   "outputs": [
    {
     "data": {
      "text/plain": [
       "0.85714285714285721"
      ]
     },
     "execution_count": 38,
     "metadata": {},
     "output_type": "execute_result"
    }
   ],
   "source": [
    "compareRanks(svc7.Actual,svc7.Predicted)"
   ]
  },
  {
   "cell_type": "markdown",
   "metadata": {},
   "source": [
    "## Season 8 Predictions"
   ]
  },
  {
   "cell_type": "code",
   "execution_count": 39,
   "metadata": {
    "collapsed": false
   },
   "outputs": [
    {
     "data": {
      "text/html": [
       "<div>\n",
       "<table border=\"1\" class=\"dataframe\">\n",
       "  <thead>\n",
       "    <tr style=\"text-align: right;\">\n",
       "      <th></th>\n",
       "      <th>Name</th>\n",
       "      <th>Actual</th>\n",
       "      <th>Predicted</th>\n",
       "    </tr>\n",
       "  </thead>\n",
       "  <tbody>\n",
       "    <tr>\n",
       "      <th>1</th>\n",
       "      <td>Bob the Drag Queen</td>\n",
       "      <td>0</td>\n",
       "      <td>1</td>\n",
       "    </tr>\n",
       "    <tr>\n",
       "      <th>6</th>\n",
       "      <td>Kim Chi</td>\n",
       "      <td>0</td>\n",
       "      <td>1</td>\n",
       "    </tr>\n",
       "    <tr>\n",
       "      <th>5</th>\n",
       "      <td>Derrick Barry</td>\n",
       "      <td>5</td>\n",
       "      <td>3</td>\n",
       "    </tr>\n",
       "    <tr>\n",
       "      <th>10</th>\n",
       "      <td>Robbie Turner</td>\n",
       "      <td>7</td>\n",
       "      <td>3</td>\n",
       "    </tr>\n",
       "    <tr>\n",
       "      <th>0</th>\n",
       "      <td>Acid Betty</td>\n",
       "      <td>8</td>\n",
       "      <td>5</td>\n",
       "    </tr>\n",
       "    <tr>\n",
       "      <th>2</th>\n",
       "      <td>Chi Chi DeVayne</td>\n",
       "      <td>4</td>\n",
       "      <td>5</td>\n",
       "    </tr>\n",
       "    <tr>\n",
       "      <th>8</th>\n",
       "      <td>Naomi Smalls</td>\n",
       "      <td>0</td>\n",
       "      <td>7</td>\n",
       "    </tr>\n",
       "    <tr>\n",
       "      <th>7</th>\n",
       "      <td>Laila McQueen</td>\n",
       "      <td>11</td>\n",
       "      <td>8</td>\n",
       "    </tr>\n",
       "    <tr>\n",
       "      <th>9</th>\n",
       "      <td>Naysha Lopez</td>\n",
       "      <td>9</td>\n",
       "      <td>8</td>\n",
       "    </tr>\n",
       "    <tr>\n",
       "      <th>3</th>\n",
       "      <td>Cynthia Lee Fontaine</td>\n",
       "      <td>10</td>\n",
       "      <td>10</td>\n",
       "    </tr>\n",
       "    <tr>\n",
       "      <th>4</th>\n",
       "      <td>Dax ExclamationPoint</td>\n",
       "      <td>11</td>\n",
       "      <td>10</td>\n",
       "    </tr>\n",
       "    <tr>\n",
       "      <th>11</th>\n",
       "      <td>Thorgy Thor</td>\n",
       "      <td>6</td>\n",
       "      <td>10</td>\n",
       "    </tr>\n",
       "  </tbody>\n",
       "</table>\n",
       "</div>"
      ],
      "text/plain": [
       "                    Name  Actual  Predicted\n",
       "1     Bob the Drag Queen       0          1\n",
       "6                Kim Chi       0          1\n",
       "5          Derrick Barry       5          3\n",
       "10         Robbie Turner       7          3\n",
       "0             Acid Betty       8          5\n",
       "2        Chi Chi DeVayne       4          5\n",
       "8           Naomi Smalls       0          7\n",
       "7          Laila McQueen      11          8\n",
       "9           Naysha Lopez       9          8\n",
       "3   Cynthia Lee Fontaine      10         10\n",
       "4   Dax ExclamationPoint      11         10\n",
       "11           Thorgy Thor       6         10"
      ]
     },
     "execution_count": 39,
     "metadata": {},
     "output_type": "execute_result"
    }
   ],
   "source": [
    "presentFit = model.predict(season8XS)\n",
    "presentFitPD = pd.DataFrame(presentFit)\n",
    "presentFitPD['Name'] = season8['Name']\n",
    "presentFitPD.columns = ['Predicted','Name']\n",
    "presentFitPD['Predicted'] = rankdata(presentFitPD.Predicted,method='min')\n",
    "svc8 = pd.merge(season8,presentFitPD).sort_values('Predicted')\n",
    "svc8"
   ]
  },
  {
   "cell_type": "code",
   "execution_count": 40,
   "metadata": {
    "collapsed": false
   },
   "outputs": [
    {
     "data": {
      "text/plain": [
       "KendalltauResult(correlation=0.46291004988627577, pvalue=0.082312803508471227)"
      ]
     },
     "execution_count": 40,
     "metadata": {},
     "output_type": "execute_result"
    }
   ],
   "source": [
    "svc8tau = svc8.loc[svc8.Actual!=0,:]\n",
    "kendalltau(svc8tau.Actual,svc8tau.Predicted)"
   ]
  },
  {
   "cell_type": "code",
   "execution_count": 41,
   "metadata": {
    "collapsed": false
   },
   "outputs": [
    {
     "data": {
      "text/plain": [
       "0.45714285714285718"
      ]
     },
     "execution_count": 41,
     "metadata": {},
     "output_type": "execute_result"
    }
   ],
   "source": [
    "compareRanks(svc8tau.Actual,svc8tau.Predicted)"
   ]
  },
  {
   "cell_type": "markdown",
   "metadata": {},
   "source": [
    "## Details of the model"
   ]
  },
  {
   "cell_type": "code",
   "execution_count": 42,
   "metadata": {
    "collapsed": false
   },
   "outputs": [
    {
     "data": {
      "text/html": [
       "<div>\n",
       "<table border=\"1\" class=\"dataframe\">\n",
       "  <thead>\n",
       "    <tr style=\"text-align: right;\">\n",
       "      <th></th>\n",
       "      <th>Age</th>\n",
       "      <th>PuertoRico</th>\n",
       "      <th>PlusSize</th>\n",
       "      <th>Wins</th>\n",
       "      <th>Highs</th>\n",
       "      <th>Lows</th>\n",
       "      <th>Lipsyncs</th>\n",
       "      <th>Season</th>\n",
       "    </tr>\n",
       "  </thead>\n",
       "  <tbody>\n",
       "    <tr>\n",
       "      <th>25</th>\n",
       "      <td>-0.147878</td>\n",
       "      <td>0</td>\n",
       "      <td>1</td>\n",
       "      <td>1.658597</td>\n",
       "      <td>1.048809</td>\n",
       "      <td>-0.650945</td>\n",
       "      <td>0.68313</td>\n",
       "      <td>0.875</td>\n",
       "    </tr>\n",
       "    <tr>\n",
       "      <th>31</th>\n",
       "      <td>-0.699958</td>\n",
       "      <td>0</td>\n",
       "      <td>1</td>\n",
       "      <td>-0.921443</td>\n",
       "      <td>1.048809</td>\n",
       "      <td>-0.650945</td>\n",
       "      <td>2.04939</td>\n",
       "      <td>0.875</td>\n",
       "    </tr>\n",
       "    <tr>\n",
       "      <th>32</th>\n",
       "      <td>0.956280</td>\n",
       "      <td>0</td>\n",
       "      <td>0</td>\n",
       "      <td>-0.921443</td>\n",
       "      <td>-0.953463</td>\n",
       "      <td>0.260378</td>\n",
       "      <td>-0.68313</td>\n",
       "      <td>0.875</td>\n",
       "    </tr>\n",
       "    <tr>\n",
       "      <th>38</th>\n",
       "      <td>-0.285898</td>\n",
       "      <td>1</td>\n",
       "      <td>0</td>\n",
       "      <td>-0.921443</td>\n",
       "      <td>-0.953463</td>\n",
       "      <td>0.260378</td>\n",
       "      <td>0.68313</td>\n",
       "      <td>0.875</td>\n",
       "    </tr>\n",
       "    <tr>\n",
       "      <th>39</th>\n",
       "      <td>0.266181</td>\n",
       "      <td>0</td>\n",
       "      <td>0</td>\n",
       "      <td>0.798584</td>\n",
       "      <td>1.716233</td>\n",
       "      <td>-0.650945</td>\n",
       "      <td>0.68313</td>\n",
       "      <td>0.875</td>\n",
       "    </tr>\n",
       "    <tr>\n",
       "      <th>41</th>\n",
       "      <td>0.404201</td>\n",
       "      <td>0</td>\n",
       "      <td>0</td>\n",
       "      <td>0.798584</td>\n",
       "      <td>1.716233</td>\n",
       "      <td>-0.650945</td>\n",
       "      <td>0.68313</td>\n",
       "      <td>0.875</td>\n",
       "    </tr>\n",
       "    <tr>\n",
       "      <th>53</th>\n",
       "      <td>-1.114017</td>\n",
       "      <td>0</td>\n",
       "      <td>0</td>\n",
       "      <td>0.798584</td>\n",
       "      <td>-0.953463</td>\n",
       "      <td>-0.650945</td>\n",
       "      <td>-0.68313</td>\n",
       "      <td>0.875</td>\n",
       "    </tr>\n",
       "    <tr>\n",
       "      <th>57</th>\n",
       "      <td>-0.147878</td>\n",
       "      <td>0</td>\n",
       "      <td>0</td>\n",
       "      <td>-0.921443</td>\n",
       "      <td>0.381385</td>\n",
       "      <td>2.994345</td>\n",
       "      <td>-0.68313</td>\n",
       "      <td>0.875</td>\n",
       "    </tr>\n",
       "    <tr>\n",
       "      <th>60</th>\n",
       "      <td>1.784399</td>\n",
       "      <td>0</td>\n",
       "      <td>0</td>\n",
       "      <td>-0.921443</td>\n",
       "      <td>0.381385</td>\n",
       "      <td>-0.650945</td>\n",
       "      <td>-0.68313</td>\n",
       "      <td>0.875</td>\n",
       "    </tr>\n",
       "    <tr>\n",
       "      <th>68</th>\n",
       "      <td>-0.975997</td>\n",
       "      <td>0</td>\n",
       "      <td>0</td>\n",
       "      <td>0.798584</td>\n",
       "      <td>-0.953463</td>\n",
       "      <td>0.260378</td>\n",
       "      <td>0.68313</td>\n",
       "      <td>0.875</td>\n",
       "    </tr>\n",
       "    <tr>\n",
       "      <th>78</th>\n",
       "      <td>-0.285898</td>\n",
       "      <td>0</td>\n",
       "      <td>0</td>\n",
       "      <td>-0.921443</td>\n",
       "      <td>-0.953463</td>\n",
       "      <td>0.260378</td>\n",
       "      <td>-0.68313</td>\n",
       "      <td>0.875</td>\n",
       "    </tr>\n",
       "    <tr>\n",
       "      <th>87</th>\n",
       "      <td>2.198459</td>\n",
       "      <td>0</td>\n",
       "      <td>0</td>\n",
       "      <td>-0.921443</td>\n",
       "      <td>-0.953463</td>\n",
       "      <td>-0.650945</td>\n",
       "      <td>-0.68313</td>\n",
       "      <td>0.875</td>\n",
       "    </tr>\n",
       "    <tr>\n",
       "      <th>91</th>\n",
       "      <td>-0.837977</td>\n",
       "      <td>0</td>\n",
       "      <td>0</td>\n",
       "      <td>-0.061430</td>\n",
       "      <td>-0.286039</td>\n",
       "      <td>-0.650945</td>\n",
       "      <td>0.68313</td>\n",
       "      <td>0.875</td>\n",
       "    </tr>\n",
       "    <tr>\n",
       "      <th>97</th>\n",
       "      <td>-1.114017</td>\n",
       "      <td>0</td>\n",
       "      <td>0</td>\n",
       "      <td>1.658597</td>\n",
       "      <td>-0.286039</td>\n",
       "      <td>1.171700</td>\n",
       "      <td>-2.04939</td>\n",
       "      <td>0.875</td>\n",
       "    </tr>\n",
       "  </tbody>\n",
       "</table>\n",
       "</div>"
      ],
      "text/plain": [
       "         Age  PuertoRico  PlusSize      Wins     Highs      Lows  Lipsyncs  \\\n",
       "25 -0.147878           0         1  1.658597  1.048809 -0.650945   0.68313   \n",
       "31 -0.699958           0         1 -0.921443  1.048809 -0.650945   2.04939   \n",
       "32  0.956280           0         0 -0.921443 -0.953463  0.260378  -0.68313   \n",
       "38 -0.285898           1         0 -0.921443 -0.953463  0.260378   0.68313   \n",
       "39  0.266181           0         0  0.798584  1.716233 -0.650945   0.68313   \n",
       "41  0.404201           0         0  0.798584  1.716233 -0.650945   0.68313   \n",
       "53 -1.114017           0         0  0.798584 -0.953463 -0.650945  -0.68313   \n",
       "57 -0.147878           0         0 -0.921443  0.381385  2.994345  -0.68313   \n",
       "60  1.784399           0         0 -0.921443  0.381385 -0.650945  -0.68313   \n",
       "68 -0.975997           0         0  0.798584 -0.953463  0.260378   0.68313   \n",
       "78 -0.285898           0         0 -0.921443 -0.953463  0.260378  -0.68313   \n",
       "87  2.198459           0         0 -0.921443 -0.953463 -0.650945  -0.68313   \n",
       "91 -0.837977           0         0 -0.061430 -0.286039 -0.650945   0.68313   \n",
       "97 -1.114017           0         0  1.658597 -0.286039  1.171700  -2.04939   \n",
       "\n",
       "    Season  \n",
       "25   0.875  \n",
       "31   0.875  \n",
       "32   0.875  \n",
       "38   0.875  \n",
       "39   0.875  \n",
       "41   0.875  \n",
       "53   0.875  \n",
       "57   0.875  \n",
       "60   0.875  \n",
       "68   0.875  \n",
       "78   0.875  \n",
       "87   0.875  \n",
       "91   0.875  \n",
       "97   0.875  "
      ]
     },
     "execution_count": 42,
     "metadata": {},
     "output_type": "execute_result"
    }
   ],
   "source": [
    "XtestS"
   ]
  },
  {
   "cell_type": "markdown",
   "metadata": {
    "collapsed": false
   },
   "source": [
    "def jitter(arr):\n",
    "    stdev = .01*(max(arr)-min(arr))\n",
    "    return arr + np.random.randn(len(arr)) * stdev\n",
    "set1cm = plt.get_cmap(\"Set1\")\n",
    "set1cm"
   ]
  },
  {
   "cell_type": "markdown",
   "metadata": {
    "collapsed": false
   },
   "source": [
    "\n",
    "plt.xkcd()\n",
    "\n",
    "Xplot = Xtrain[['Wins','Lipsyncs']]\n",
    "yplot = ytrain\n",
    "\n",
    "fig, ax = plt.subplots()\n",
    "\n",
    "for i in range(1,14):\n",
    "    thisX = Xtrain.loc[ytrain==i,:]\n",
    "    ax.scatter(jitter(Xplot['Wins']),jitter(Xplot['Lipsyncs']),c=i,label=\"{0} Place\".format(i))\n",
    "\n",
    "\n",
    "ax.legend()"
   ]
  },
  {
   "cell_type": "markdown",
   "metadata": {},
   "source": [
    "# Gaussian Naive Bayes"
   ]
  },
  {
   "cell_type": "code",
   "execution_count": 43,
   "metadata": {
    "collapsed": false
   },
   "outputs": [
    {
     "data": {
      "text/html": [
       "<div>\n",
       "<table border=\"1\" class=\"dataframe\">\n",
       "  <thead>\n",
       "    <tr style=\"text-align: right;\">\n",
       "      <th></th>\n",
       "      <th>Name</th>\n",
       "      <th>Actual</th>\n",
       "      <th>Predicted</th>\n",
       "    </tr>\n",
       "  </thead>\n",
       "  <tbody>\n",
       "    <tr>\n",
       "      <th>13</th>\n",
       "      <td>Voilet Chachki</td>\n",
       "      <td>1</td>\n",
       "      <td>1</td>\n",
       "    </tr>\n",
       "    <tr>\n",
       "      <th>0</th>\n",
       "      <td>Ginger Minj</td>\n",
       "      <td>2</td>\n",
       "      <td>6</td>\n",
       "    </tr>\n",
       "    <tr>\n",
       "      <th>9</th>\n",
       "      <td>Pearl</td>\n",
       "      <td>3</td>\n",
       "      <td>8</td>\n",
       "    </tr>\n",
       "    <tr>\n",
       "      <th>5</th>\n",
       "      <td>Kennedy Davenport</td>\n",
       "      <td>4</td>\n",
       "      <td>1</td>\n",
       "    </tr>\n",
       "    <tr>\n",
       "      <th>4</th>\n",
       "      <td>Katya</td>\n",
       "      <td>5</td>\n",
       "      <td>1</td>\n",
       "    </tr>\n",
       "    <tr>\n",
       "      <th>12</th>\n",
       "      <td>Trixie Mattel</td>\n",
       "      <td>6</td>\n",
       "      <td>8</td>\n",
       "    </tr>\n",
       "    <tr>\n",
       "      <th>7</th>\n",
       "      <td>Miss Fame</td>\n",
       "      <td>7</td>\n",
       "      <td>4</td>\n",
       "    </tr>\n",
       "    <tr>\n",
       "      <th>1</th>\n",
       "      <td>Jaidynn Diore Fierce</td>\n",
       "      <td>8</td>\n",
       "      <td>6</td>\n",
       "    </tr>\n",
       "    <tr>\n",
       "      <th>6</th>\n",
       "      <td>Max</td>\n",
       "      <td>9</td>\n",
       "      <td>8</td>\n",
       "    </tr>\n",
       "    <tr>\n",
       "      <th>3</th>\n",
       "      <td>Kandy Ho</td>\n",
       "      <td>10</td>\n",
       "      <td>4</td>\n",
       "    </tr>\n",
       "    <tr>\n",
       "      <th>8</th>\n",
       "      <td>Mrs. Kasha Davis</td>\n",
       "      <td>11</td>\n",
       "      <td>8</td>\n",
       "    </tr>\n",
       "    <tr>\n",
       "      <th>2</th>\n",
       "      <td>Jasmine Masters</td>\n",
       "      <td>12</td>\n",
       "      <td>8</td>\n",
       "    </tr>\n",
       "    <tr>\n",
       "      <th>10</th>\n",
       "      <td>Sasha Belle</td>\n",
       "      <td>13</td>\n",
       "      <td>8</td>\n",
       "    </tr>\n",
       "    <tr>\n",
       "      <th>11</th>\n",
       "      <td>Tempest DuJour</td>\n",
       "      <td>14</td>\n",
       "      <td>8</td>\n",
       "    </tr>\n",
       "  </tbody>\n",
       "</table>\n",
       "</div>"
      ],
      "text/plain": [
       "                    Name  Actual  Predicted\n",
       "13        Voilet Chachki       1          1\n",
       "0            Ginger Minj       2          6\n",
       "9                  Pearl       3          8\n",
       "5      Kennedy Davenport       4          1\n",
       "4                  Katya       5          1\n",
       "12         Trixie Mattel       6          8\n",
       "7              Miss Fame       7          4\n",
       "1   Jaidynn Diore Fierce       8          6\n",
       "6                    Max       9          8\n",
       "3               Kandy Ho      10          4\n",
       "8       Mrs. Kasha Davis      11          8\n",
       "2        Jasmine Masters      12          8\n",
       "10           Sasha Belle      13          8\n",
       "11        Tempest DuJour      14          8"
      ]
     },
     "execution_count": 43,
     "metadata": {},
     "output_type": "execute_result"
    }
   ],
   "source": [
    "from sklearn.naive_bayes import GaussianNB\n",
    "model = GaussianNB()\n",
    "model.fit(Xtrain,ytrain)\n",
    "nbTest = model.predict(Xtest)\n",
    "nbTestDB = pd.DataFrame(nbTest)\n",
    "nbTestDB['Name'] = season7.Name\n",
    "nbTestDB.columns = ['Predicted','Name']\n",
    "nbTestDB = nbTestDB.loc[:,['Name','Predicted']]\n",
    "nbTestDB['Predicted'] = rankdata(nbTestDB.Predicted,method='min')\n",
    "\n",
    "nb7 = pd.merge(season7,nbTestDB).sort_values('Actual')\n",
    "nb7"
   ]
  },
  {
   "cell_type": "code",
   "execution_count": 44,
   "metadata": {
    "collapsed": false
   },
   "outputs": [
    {
     "data": {
      "text/plain": [
       "KendalltauResult(correlation=0.48108780653777095, pvalue=0.016544547824374332)"
      ]
     },
     "execution_count": 44,
     "metadata": {},
     "output_type": "execute_result"
    }
   ],
   "source": [
    "kendalltau(nb7.Actual,nb7.Predicted)"
   ]
  },
  {
   "cell_type": "code",
   "execution_count": 45,
   "metadata": {
    "collapsed": false
   },
   "outputs": [
    {
     "data": {
      "text/plain": [
       "0.54725274725274731"
      ]
     },
     "execution_count": 45,
     "metadata": {},
     "output_type": "execute_result"
    }
   ],
   "source": [
    "compareRanks(nb7.Actual,nb7.Predicted)"
   ]
  },
  {
   "cell_type": "markdown",
   "metadata": {
    "collapsed": true
   },
   "source": [
    "## Season 8 Predictions"
   ]
  },
  {
   "cell_type": "code",
   "execution_count": 46,
   "metadata": {
    "collapsed": false
   },
   "outputs": [
    {
     "data": {
      "text/html": [
       "<div>\n",
       "<table border=\"1\" class=\"dataframe\">\n",
       "  <thead>\n",
       "    <tr style=\"text-align: right;\">\n",
       "      <th></th>\n",
       "      <th>Name</th>\n",
       "      <th>Actual</th>\n",
       "      <th>Predicted</th>\n",
       "    </tr>\n",
       "  </thead>\n",
       "  <tbody>\n",
       "    <tr>\n",
       "      <th>0</th>\n",
       "      <td>Acid Betty</td>\n",
       "      <td>8</td>\n",
       "      <td>1</td>\n",
       "    </tr>\n",
       "    <tr>\n",
       "      <th>1</th>\n",
       "      <td>Bob the Drag Queen</td>\n",
       "      <td>0</td>\n",
       "      <td>1</td>\n",
       "    </tr>\n",
       "    <tr>\n",
       "      <th>6</th>\n",
       "      <td>Kim Chi</td>\n",
       "      <td>0</td>\n",
       "      <td>1</td>\n",
       "    </tr>\n",
       "    <tr>\n",
       "      <th>8</th>\n",
       "      <td>Naomi Smalls</td>\n",
       "      <td>0</td>\n",
       "      <td>1</td>\n",
       "    </tr>\n",
       "    <tr>\n",
       "      <th>11</th>\n",
       "      <td>Thorgy Thor</td>\n",
       "      <td>6</td>\n",
       "      <td>1</td>\n",
       "    </tr>\n",
       "    <tr>\n",
       "      <th>5</th>\n",
       "      <td>Derrick Barry</td>\n",
       "      <td>5</td>\n",
       "      <td>6</td>\n",
       "    </tr>\n",
       "    <tr>\n",
       "      <th>10</th>\n",
       "      <td>Robbie Turner</td>\n",
       "      <td>7</td>\n",
       "      <td>6</td>\n",
       "    </tr>\n",
       "    <tr>\n",
       "      <th>3</th>\n",
       "      <td>Cynthia Lee Fontaine</td>\n",
       "      <td>10</td>\n",
       "      <td>8</td>\n",
       "    </tr>\n",
       "    <tr>\n",
       "      <th>9</th>\n",
       "      <td>Naysha Lopez</td>\n",
       "      <td>9</td>\n",
       "      <td>8</td>\n",
       "    </tr>\n",
       "    <tr>\n",
       "      <th>2</th>\n",
       "      <td>Chi Chi DeVayne</td>\n",
       "      <td>4</td>\n",
       "      <td>10</td>\n",
       "    </tr>\n",
       "    <tr>\n",
       "      <th>4</th>\n",
       "      <td>Dax ExclamationPoint</td>\n",
       "      <td>11</td>\n",
       "      <td>11</td>\n",
       "    </tr>\n",
       "    <tr>\n",
       "      <th>7</th>\n",
       "      <td>Laila McQueen</td>\n",
       "      <td>11</td>\n",
       "      <td>11</td>\n",
       "    </tr>\n",
       "  </tbody>\n",
       "</table>\n",
       "</div>"
      ],
      "text/plain": [
       "                    Name  Actual  Predicted\n",
       "0             Acid Betty       8          1\n",
       "1     Bob the Drag Queen       0          1\n",
       "6                Kim Chi       0          1\n",
       "8           Naomi Smalls       0          1\n",
       "11           Thorgy Thor       6          1\n",
       "5          Derrick Barry       5          6\n",
       "10         Robbie Turner       7          6\n",
       "3   Cynthia Lee Fontaine      10          8\n",
       "9           Naysha Lopez       9          8\n",
       "2        Chi Chi DeVayne       4         10\n",
       "4   Dax ExclamationPoint      11         11\n",
       "7          Laila McQueen      11         11"
      ]
     },
     "execution_count": 46,
     "metadata": {},
     "output_type": "execute_result"
    }
   ],
   "source": [
    "nb8 = model.predict(season8X)\n",
    "nb8DB = pd.DataFrame(nb8)\n",
    "nb8DB['Name'] = season8.Name\n",
    "nb8DB.columns = ['Predicted','Name']\n",
    "nb8DB['Predicted'] = rankdata(nb8DB.Predicted,method='min')\n",
    "nb8 = pd.merge(season8,nb8DB).sort_values('Predicted')\n",
    "nb8"
   ]
  },
  {
   "cell_type": "code",
   "execution_count": 47,
   "metadata": {
    "collapsed": false
   },
   "outputs": [
    {
     "data": {
      "text/plain": [
       "KendalltauResult(correlation=0.41833001326703778, pvalue=0.1163916078469175)"
      ]
     },
     "execution_count": 47,
     "metadata": {},
     "output_type": "execute_result"
    }
   ],
   "source": [
    "nb8tau = nb8.loc[nb8.Actual!=0,:]\n",
    "kendalltau(nb8tau.Actual,nb8tau.Predicted)"
   ]
  },
  {
   "cell_type": "code",
   "execution_count": 48,
   "metadata": {
    "collapsed": false
   },
   "outputs": [
    {
     "data": {
      "text/plain": [
       "-0.11428571428571432"
      ]
     },
     "execution_count": 48,
     "metadata": {},
     "output_type": "execute_result"
    }
   ],
   "source": [
    "compareRanks(nb8tau.Actual,nb8tau.Predicted)"
   ]
  },
  {
   "cell_type": "markdown",
   "metadata": {},
   "source": [
    "# Random Forest Classifier"
   ]
  },
  {
   "cell_type": "code",
   "execution_count": 49,
   "metadata": {
    "collapsed": false
   },
   "outputs": [],
   "source": [
    "from sklearn.ensemble import RandomForestClassifier\n",
    "\n",
    "model = RandomForestClassifier(n_estimators=100, random_state=0)\n",
    "model.fit(Xtrain,ytrain)\n",
    "yfit = model.predict(Xtest)\n",
    "\n",
    "yfitpd = pd.DataFrame(yfit)\n",
    "yfitpd['Name'] = season7.Name\n",
    "yfitpd.columns = ['Predicted','Name']\n",
    "yfitpd = yfitpd.loc[:,['Name','Predicted']]\n",
    "yfitpd['Predicted'] = rankdata(yfitpd.Predicted,method='min')"
   ]
  },
  {
   "cell_type": "markdown",
   "metadata": {},
   "source": [
    "## Season 7 Predictions"
   ]
  },
  {
   "cell_type": "code",
   "execution_count": 50,
   "metadata": {
    "collapsed": false
   },
   "outputs": [
    {
     "data": {
      "text/html": [
       "<div>\n",
       "<table border=\"1\" class=\"dataframe\">\n",
       "  <thead>\n",
       "    <tr style=\"text-align: right;\">\n",
       "      <th></th>\n",
       "      <th>Name</th>\n",
       "      <th>Actual</th>\n",
       "      <th>Predicted</th>\n",
       "    </tr>\n",
       "  </thead>\n",
       "  <tbody>\n",
       "    <tr>\n",
       "      <th>13</th>\n",
       "      <td>Voilet Chachki</td>\n",
       "      <td>1</td>\n",
       "      <td>1</td>\n",
       "    </tr>\n",
       "    <tr>\n",
       "      <th>0</th>\n",
       "      <td>Ginger Minj</td>\n",
       "      <td>2</td>\n",
       "      <td>6</td>\n",
       "    </tr>\n",
       "    <tr>\n",
       "      <th>9</th>\n",
       "      <td>Pearl</td>\n",
       "      <td>3</td>\n",
       "      <td>3</td>\n",
       "    </tr>\n",
       "    <tr>\n",
       "      <th>5</th>\n",
       "      <td>Kennedy Davenport</td>\n",
       "      <td>4</td>\n",
       "      <td>4</td>\n",
       "    </tr>\n",
       "    <tr>\n",
       "      <th>4</th>\n",
       "      <td>Katya</td>\n",
       "      <td>5</td>\n",
       "      <td>4</td>\n",
       "    </tr>\n",
       "    <tr>\n",
       "      <th>12</th>\n",
       "      <td>Trixie Mattel</td>\n",
       "      <td>6</td>\n",
       "      <td>6</td>\n",
       "    </tr>\n",
       "    <tr>\n",
       "      <th>7</th>\n",
       "      <td>Miss Fame</td>\n",
       "      <td>7</td>\n",
       "      <td>10</td>\n",
       "    </tr>\n",
       "    <tr>\n",
       "      <th>1</th>\n",
       "      <td>Jaidynn Diore Fierce</td>\n",
       "      <td>8</td>\n",
       "      <td>6</td>\n",
       "    </tr>\n",
       "    <tr>\n",
       "      <th>6</th>\n",
       "      <td>Max</td>\n",
       "      <td>9</td>\n",
       "      <td>1</td>\n",
       "    </tr>\n",
       "    <tr>\n",
       "      <th>3</th>\n",
       "      <td>Kandy Ho</td>\n",
       "      <td>10</td>\n",
       "      <td>6</td>\n",
       "    </tr>\n",
       "    <tr>\n",
       "      <th>8</th>\n",
       "      <td>Mrs. Kasha Davis</td>\n",
       "      <td>11</td>\n",
       "      <td>10</td>\n",
       "    </tr>\n",
       "    <tr>\n",
       "      <th>2</th>\n",
       "      <td>Jasmine Masters</td>\n",
       "      <td>12</td>\n",
       "      <td>13</td>\n",
       "    </tr>\n",
       "    <tr>\n",
       "      <th>10</th>\n",
       "      <td>Sasha Belle</td>\n",
       "      <td>13</td>\n",
       "      <td>12</td>\n",
       "    </tr>\n",
       "    <tr>\n",
       "      <th>11</th>\n",
       "      <td>Tempest DuJour</td>\n",
       "      <td>14</td>\n",
       "      <td>13</td>\n",
       "    </tr>\n",
       "  </tbody>\n",
       "</table>\n",
       "</div>"
      ],
      "text/plain": [
       "                    Name  Actual  Predicted\n",
       "13        Voilet Chachki       1          1\n",
       "0            Ginger Minj       2          6\n",
       "9                  Pearl       3          3\n",
       "5      Kennedy Davenport       4          4\n",
       "4                  Katya       5          4\n",
       "12         Trixie Mattel       6          6\n",
       "7              Miss Fame       7         10\n",
       "1   Jaidynn Diore Fierce       8          6\n",
       "6                    Max       9          1\n",
       "3               Kandy Ho      10          6\n",
       "8       Mrs. Kasha Davis      11         10\n",
       "2        Jasmine Masters      12         13\n",
       "10           Sasha Belle      13         12\n",
       "11        Tempest DuJour      14         13"
      ]
     },
     "execution_count": 50,
     "metadata": {},
     "output_type": "execute_result"
    }
   ],
   "source": [
    "rfClass = pd.merge(season7,yfitpd).sort_values('Actual')\n",
    "rfClass"
   ]
  },
  {
   "cell_type": "code",
   "execution_count": 51,
   "metadata": {
    "collapsed": false
   },
   "outputs": [
    {
     "data": {
      "text/plain": [
       "KendalltauResult(correlation=0.64061851133006142, pvalue=0.0014157354382150771)"
      ]
     },
     "execution_count": 51,
     "metadata": {},
     "output_type": "execute_result"
    }
   ],
   "source": [
    "kendalltau(rfClass.Actual,rfClass.Predicted)"
   ]
  },
  {
   "cell_type": "code",
   "execution_count": 52,
   "metadata": {
    "collapsed": false
   },
   "outputs": [
    {
     "data": {
      "text/plain": [
       "0.74945054945054945"
      ]
     },
     "execution_count": 52,
     "metadata": {},
     "output_type": "execute_result"
    }
   ],
   "source": [
    "compareRanks(rfClass.Actual,rfClass.Predicted)"
   ]
  },
  {
   "cell_type": "markdown",
   "metadata": {},
   "source": [
    "## Season 8 Predictions"
   ]
  },
  {
   "cell_type": "code",
   "execution_count": 53,
   "metadata": {
    "collapsed": false
   },
   "outputs": [],
   "source": [
    "rf8Fit = model.predict(season8X)\n",
    "rf8FitPD = pd.DataFrame(rf8Fit)\n",
    "rf8FitPD['Name'] = season8.Name\n",
    "rf8FitPD.columns = ['Predicted','Name']\n",
    "rf8FitPD = rf8FitPD.loc[:,['Name','Predicted']]\n",
    "rf8FitPD['Predicted'] = rankdata(rf8FitPD.Predicted,method='min')"
   ]
  },
  {
   "cell_type": "code",
   "execution_count": 54,
   "metadata": {
    "collapsed": false
   },
   "outputs": [
    {
     "data": {
      "text/html": [
       "<div>\n",
       "<table border=\"1\" class=\"dataframe\">\n",
       "  <thead>\n",
       "    <tr style=\"text-align: right;\">\n",
       "      <th></th>\n",
       "      <th>Name</th>\n",
       "      <th>Actual</th>\n",
       "      <th>Predicted</th>\n",
       "    </tr>\n",
       "  </thead>\n",
       "  <tbody>\n",
       "    <tr>\n",
       "      <th>0</th>\n",
       "      <td>Acid Betty</td>\n",
       "      <td>8</td>\n",
       "      <td>1</td>\n",
       "    </tr>\n",
       "    <tr>\n",
       "      <th>1</th>\n",
       "      <td>Bob the Drag Queen</td>\n",
       "      <td>0</td>\n",
       "      <td>1</td>\n",
       "    </tr>\n",
       "    <tr>\n",
       "      <th>6</th>\n",
       "      <td>Kim Chi</td>\n",
       "      <td>0</td>\n",
       "      <td>3</td>\n",
       "    </tr>\n",
       "    <tr>\n",
       "      <th>2</th>\n",
       "      <td>Chi Chi DeVayne</td>\n",
       "      <td>4</td>\n",
       "      <td>4</td>\n",
       "    </tr>\n",
       "    <tr>\n",
       "      <th>5</th>\n",
       "      <td>Derrick Barry</td>\n",
       "      <td>5</td>\n",
       "      <td>5</td>\n",
       "    </tr>\n",
       "    <tr>\n",
       "      <th>10</th>\n",
       "      <td>Robbie Turner</td>\n",
       "      <td>7</td>\n",
       "      <td>5</td>\n",
       "    </tr>\n",
       "    <tr>\n",
       "      <th>8</th>\n",
       "      <td>Naomi Smalls</td>\n",
       "      <td>0</td>\n",
       "      <td>7</td>\n",
       "    </tr>\n",
       "    <tr>\n",
       "      <th>11</th>\n",
       "      <td>Thorgy Thor</td>\n",
       "      <td>6</td>\n",
       "      <td>7</td>\n",
       "    </tr>\n",
       "    <tr>\n",
       "      <th>9</th>\n",
       "      <td>Naysha Lopez</td>\n",
       "      <td>9</td>\n",
       "      <td>9</td>\n",
       "    </tr>\n",
       "    <tr>\n",
       "      <th>4</th>\n",
       "      <td>Dax ExclamationPoint</td>\n",
       "      <td>11</td>\n",
       "      <td>10</td>\n",
       "    </tr>\n",
       "    <tr>\n",
       "      <th>7</th>\n",
       "      <td>Laila McQueen</td>\n",
       "      <td>11</td>\n",
       "      <td>10</td>\n",
       "    </tr>\n",
       "    <tr>\n",
       "      <th>3</th>\n",
       "      <td>Cynthia Lee Fontaine</td>\n",
       "      <td>10</td>\n",
       "      <td>12</td>\n",
       "    </tr>\n",
       "  </tbody>\n",
       "</table>\n",
       "</div>"
      ],
      "text/plain": [
       "                    Name  Actual  Predicted\n",
       "0             Acid Betty       8          1\n",
       "1     Bob the Drag Queen       0          1\n",
       "6                Kim Chi       0          3\n",
       "2        Chi Chi DeVayne       4          4\n",
       "5          Derrick Barry       5          5\n",
       "10         Robbie Turner       7          5\n",
       "8           Naomi Smalls       0          7\n",
       "11           Thorgy Thor       6          7\n",
       "9           Naysha Lopez       9          9\n",
       "4   Dax ExclamationPoint      11         10\n",
       "7          Laila McQueen      11         10\n",
       "3   Cynthia Lee Fontaine      10         12"
      ]
     },
     "execution_count": 54,
     "metadata": {},
     "output_type": "execute_result"
    }
   ],
   "source": [
    "rfClass8 = pd.merge(season8,rf8FitPD).sort_values('Predicted')\n",
    "rfClass8"
   ]
  },
  {
   "cell_type": "code",
   "execution_count": 55,
   "metadata": {
    "collapsed": false
   },
   "outputs": [
    {
     "data": {
      "text/plain": [
       "KendalltauResult(correlation=0.57977103565244836, pvalue=0.029552937974206061)"
      ]
     },
     "execution_count": 55,
     "metadata": {},
     "output_type": "execute_result"
    }
   ],
   "source": [
    "rfClass8tau = rfClass8.loc[rfClass8.Actual!=0,:]\n",
    "kendalltau(rfClass8tau.Actual,rfClass8tau.Predicted)"
   ]
  },
  {
   "cell_type": "code",
   "execution_count": 56,
   "metadata": {
    "collapsed": false
   },
   "outputs": [
    {
     "data": {
      "text/plain": [
       "0.4285714285714286"
      ]
     },
     "execution_count": 56,
     "metadata": {},
     "output_type": "execute_result"
    }
   ],
   "source": [
    "compareRanks(rfClass8tau.Actual,rfClass8tau.Predicted)"
   ]
  },
  {
   "cell_type": "markdown",
   "metadata": {},
   "source": [
    "# Random Forest Regressor"
   ]
  },
  {
   "cell_type": "code",
   "execution_count": 57,
   "metadata": {
    "collapsed": false
   },
   "outputs": [
    {
     "data": {
      "text/plain": [
       "RandomForestRegressor(bootstrap=True, criterion='mse', max_depth=None,\n",
       "           max_features='auto', max_leaf_nodes=None, min_samples_leaf=1,\n",
       "           min_samples_split=2, min_weight_fraction_leaf=0.0,\n",
       "           n_estimators=200, n_jobs=1, oob_score=False, random_state=24601,\n",
       "           verbose=0, warm_start=False)"
      ]
     },
     "execution_count": 57,
     "metadata": {},
     "output_type": "execute_result"
    }
   ],
   "source": [
    "from sklearn.ensemble import RandomForestRegressor\n",
    "forest = RandomForestRegressor(200,random_state=24601)\n",
    "forest.fit(Xtrain,ytrain)"
   ]
  },
  {
   "cell_type": "markdown",
   "metadata": {},
   "source": [
    "## Season 7 Predictions"
   ]
  },
  {
   "cell_type": "code",
   "execution_count": 58,
   "metadata": {
    "collapsed": false
   },
   "outputs": [
    {
     "data": {
      "text/html": [
       "<div>\n",
       "<table border=\"1\" class=\"dataframe\">\n",
       "  <thead>\n",
       "    <tr style=\"text-align: right;\">\n",
       "      <th></th>\n",
       "      <th>Name</th>\n",
       "      <th>Actual</th>\n",
       "      <th>Predicted</th>\n",
       "    </tr>\n",
       "  </thead>\n",
       "  <tbody>\n",
       "    <tr>\n",
       "      <th>13</th>\n",
       "      <td>Voilet Chachki</td>\n",
       "      <td>1</td>\n",
       "      <td>2</td>\n",
       "    </tr>\n",
       "    <tr>\n",
       "      <th>0</th>\n",
       "      <td>Ginger Minj</td>\n",
       "      <td>2</td>\n",
       "      <td>1</td>\n",
       "    </tr>\n",
       "    <tr>\n",
       "      <th>9</th>\n",
       "      <td>Pearl</td>\n",
       "      <td>3</td>\n",
       "      <td>6</td>\n",
       "    </tr>\n",
       "    <tr>\n",
       "      <th>5</th>\n",
       "      <td>Kennedy Davenport</td>\n",
       "      <td>4</td>\n",
       "      <td>2</td>\n",
       "    </tr>\n",
       "    <tr>\n",
       "      <th>4</th>\n",
       "      <td>Katya</td>\n",
       "      <td>5</td>\n",
       "      <td>2</td>\n",
       "    </tr>\n",
       "    <tr>\n",
       "      <th>12</th>\n",
       "      <td>Trixie Mattel</td>\n",
       "      <td>6</td>\n",
       "      <td>8</td>\n",
       "    </tr>\n",
       "    <tr>\n",
       "      <th>7</th>\n",
       "      <td>Miss Fame</td>\n",
       "      <td>7</td>\n",
       "      <td>8</td>\n",
       "    </tr>\n",
       "    <tr>\n",
       "      <th>1</th>\n",
       "      <td>Jaidynn Diore Fierce</td>\n",
       "      <td>8</td>\n",
       "      <td>6</td>\n",
       "    </tr>\n",
       "    <tr>\n",
       "      <th>6</th>\n",
       "      <td>Max</td>\n",
       "      <td>9</td>\n",
       "      <td>5</td>\n",
       "    </tr>\n",
       "    <tr>\n",
       "      <th>3</th>\n",
       "      <td>Kandy Ho</td>\n",
       "      <td>10</td>\n",
       "      <td>8</td>\n",
       "    </tr>\n",
       "    <tr>\n",
       "      <th>8</th>\n",
       "      <td>Mrs. Kasha Davis</td>\n",
       "      <td>11</td>\n",
       "      <td>11</td>\n",
       "    </tr>\n",
       "    <tr>\n",
       "      <th>2</th>\n",
       "      <td>Jasmine Masters</td>\n",
       "      <td>12</td>\n",
       "      <td>11</td>\n",
       "    </tr>\n",
       "    <tr>\n",
       "      <th>10</th>\n",
       "      <td>Sasha Belle</td>\n",
       "      <td>13</td>\n",
       "      <td>11</td>\n",
       "    </tr>\n",
       "    <tr>\n",
       "      <th>11</th>\n",
       "      <td>Tempest DuJour</td>\n",
       "      <td>14</td>\n",
       "      <td>14</td>\n",
       "    </tr>\n",
       "  </tbody>\n",
       "</table>\n",
       "</div>"
      ],
      "text/plain": [
       "                    Name  Actual  Predicted\n",
       "13        Voilet Chachki       1          2\n",
       "0            Ginger Minj       2          1\n",
       "9                  Pearl       3          6\n",
       "5      Kennedy Davenport       4          2\n",
       "4                  Katya       5          2\n",
       "12         Trixie Mattel       6          8\n",
       "7              Miss Fame       7          8\n",
       "1   Jaidynn Diore Fierce       8          6\n",
       "6                    Max       9          5\n",
       "3               Kandy Ho      10          8\n",
       "8       Mrs. Kasha Davis      11         11\n",
       "2        Jasmine Masters      12         11\n",
       "10           Sasha Belle      13         11\n",
       "11        Tempest DuJour      14         14"
      ]
     },
     "execution_count": 58,
     "metadata": {},
     "output_type": "execute_result"
    }
   ],
   "source": [
    "forestFit = forest.predict(Xtest)\n",
    "forestFitDB = pd.DataFrame(forestFit.round())\n",
    "forestFitDB['Name'] = season7.Name\n",
    "forestFitDB.columns = ['Predicted','Name']\n",
    "forestFitDB['Predicted'] = rankdata(forestFitDB.Predicted,method='min')\n",
    "rfReg7 = pd.merge(season7,forestFitDB).sort_values('Actual')\n",
    "rfReg7"
   ]
  },
  {
   "cell_type": "code",
   "execution_count": 59,
   "metadata": {
    "collapsed": false
   },
   "outputs": [
    {
     "data": {
      "text/plain": [
       "KendalltauResult(correlation=0.73379938570534309, pvalue=0.00025655048033250812)"
      ]
     },
     "execution_count": 59,
     "metadata": {},
     "output_type": "execute_result"
    }
   ],
   "source": [
    "kendalltau(rfReg7.Actual,rfReg7.Predicted)"
   ]
  },
  {
   "cell_type": "code",
   "execution_count": 60,
   "metadata": {
    "collapsed": false
   },
   "outputs": [
    {
     "data": {
      "text/plain": [
       "0.87252747252747254"
      ]
     },
     "execution_count": 60,
     "metadata": {},
     "output_type": "execute_result"
    }
   ],
   "source": [
    "compareRanks(rfReg7.Actual,rfReg7.Predicted)"
   ]
  },
  {
   "cell_type": "markdown",
   "metadata": {},
   "source": [
    "## Season 8 Predictions"
   ]
  },
  {
   "cell_type": "code",
   "execution_count": 61,
   "metadata": {
    "collapsed": false
   },
   "outputs": [
    {
     "data": {
      "text/html": [
       "<div>\n",
       "<table border=\"1\" class=\"dataframe\">\n",
       "  <thead>\n",
       "    <tr style=\"text-align: right;\">\n",
       "      <th></th>\n",
       "      <th>Name</th>\n",
       "      <th>Actual</th>\n",
       "      <th>Predicted</th>\n",
       "    </tr>\n",
       "  </thead>\n",
       "  <tbody>\n",
       "    <tr>\n",
       "      <th>5</th>\n",
       "      <td>Derrick Barry</td>\n",
       "      <td>5</td>\n",
       "      <td>1</td>\n",
       "    </tr>\n",
       "    <tr>\n",
       "      <th>6</th>\n",
       "      <td>Kim Chi</td>\n",
       "      <td>0</td>\n",
       "      <td>1</td>\n",
       "    </tr>\n",
       "    <tr>\n",
       "      <th>1</th>\n",
       "      <td>Bob the Drag Queen</td>\n",
       "      <td>0</td>\n",
       "      <td>3</td>\n",
       "    </tr>\n",
       "    <tr>\n",
       "      <th>10</th>\n",
       "      <td>Robbie Turner</td>\n",
       "      <td>7</td>\n",
       "      <td>3</td>\n",
       "    </tr>\n",
       "    <tr>\n",
       "      <th>2</th>\n",
       "      <td>Chi Chi DeVayne</td>\n",
       "      <td>4</td>\n",
       "      <td>5</td>\n",
       "    </tr>\n",
       "    <tr>\n",
       "      <th>8</th>\n",
       "      <td>Naomi Smalls</td>\n",
       "      <td>0</td>\n",
       "      <td>5</td>\n",
       "    </tr>\n",
       "    <tr>\n",
       "      <th>11</th>\n",
       "      <td>Thorgy Thor</td>\n",
       "      <td>6</td>\n",
       "      <td>7</td>\n",
       "    </tr>\n",
       "    <tr>\n",
       "      <th>0</th>\n",
       "      <td>Acid Betty</td>\n",
       "      <td>8</td>\n",
       "      <td>8</td>\n",
       "    </tr>\n",
       "    <tr>\n",
       "      <th>7</th>\n",
       "      <td>Laila McQueen</td>\n",
       "      <td>11</td>\n",
       "      <td>9</td>\n",
       "    </tr>\n",
       "    <tr>\n",
       "      <th>4</th>\n",
       "      <td>Dax ExclamationPoint</td>\n",
       "      <td>11</td>\n",
       "      <td>10</td>\n",
       "    </tr>\n",
       "    <tr>\n",
       "      <th>9</th>\n",
       "      <td>Naysha Lopez</td>\n",
       "      <td>9</td>\n",
       "      <td>10</td>\n",
       "    </tr>\n",
       "    <tr>\n",
       "      <th>3</th>\n",
       "      <td>Cynthia Lee Fontaine</td>\n",
       "      <td>10</td>\n",
       "      <td>12</td>\n",
       "    </tr>\n",
       "  </tbody>\n",
       "</table>\n",
       "</div>"
      ],
      "text/plain": [
       "                    Name  Actual  Predicted\n",
       "5          Derrick Barry       5          1\n",
       "6                Kim Chi       0          1\n",
       "1     Bob the Drag Queen       0          3\n",
       "10         Robbie Turner       7          3\n",
       "2        Chi Chi DeVayne       4          5\n",
       "8           Naomi Smalls       0          5\n",
       "11           Thorgy Thor       6          7\n",
       "0             Acid Betty       8          8\n",
       "7          Laila McQueen      11          9\n",
       "4   Dax ExclamationPoint      11         10\n",
       "9           Naysha Lopez       9         10\n",
       "3   Cynthia Lee Fontaine      10         12"
      ]
     },
     "execution_count": 61,
     "metadata": {},
     "output_type": "execute_result"
    }
   ],
   "source": [
    "forest8 = forest.predict(season8X)\n",
    "forest8DB = pd.DataFrame(forest8.round())\n",
    "forest8DB['Name'] = season8.Name\n",
    "forest8DB.columns = ['Predicted','Name']\n",
    "forest8DB['Predicted'] = rankdata(forest8DB.Predicted,method='min')\n",
    "forest8 = pd.merge(season8,forest8DB).sort_values('Predicted')\n",
    "forest8"
   ]
  },
  {
   "cell_type": "code",
   "execution_count": 62,
   "metadata": {
    "collapsed": false
   },
   "outputs": [
    {
     "data": {
      "text/plain": [
       "KendalltauResult(correlation=0.62857142857142867, pvalue=0.018314797230417328)"
      ]
     },
     "execution_count": 62,
     "metadata": {},
     "output_type": "execute_result"
    }
   ],
   "source": [
    "forest8tau = forest8.loc[forest8.Actual!=0,:]\n",
    "kendalltau(forest8tau.Actual,forest8tau.Predicted)"
   ]
  },
  {
   "cell_type": "code",
   "execution_count": 63,
   "metadata": {
    "collapsed": false
   },
   "outputs": [
    {
     "data": {
      "text/plain": [
       "0.58095238095238089"
      ]
     },
     "execution_count": 63,
     "metadata": {},
     "output_type": "execute_result"
    }
   ],
   "source": [
    "compareRanks(forest8tau.Actual,forest8tau.Predicted)"
   ]
  },
  {
   "cell_type": "markdown",
   "metadata": {
    "collapsed": true
   },
   "source": [
    "# Neural Network\n",
    "\n",
    "Unfortunately, scikit learn's stable release does not include neural networks (it is being added in the next version) so if I want to include a neural network I have to code one from scratch (credit goes to Joel Grus's Data Science From Scratch book, available from O'Reilly, for much of the code for the neural network)"
   ]
  },
  {
   "cell_type": "code",
   "execution_count": 64,
   "metadata": {
    "collapsed": false
   },
   "outputs": [],
   "source": [
    "import numpy as np\n",
    "import math, random\n",
    "# create the \"step\" function\n",
    "def sigmoid(t): \n",
    "    return 1 / (1 + math.exp(-t))\n",
    "\n",
    "# create the neuron\n",
    "def neuron_output(weights, inputs):   #This is a simpler representation; weights for input plus one extra (bias)\n",
    "    return sigmoid(np.dot(weights, inputs))\n",
    "\n",
    "# define the network\n",
    "def feed_forward(neural_network, input_vector):\n",
    "    \"\"\"takes in a neural network (represented as a list of lists of lists of weights)\n",
    "    and returns the output from forward-propagating the input\"\"\"\n",
    "\n",
    "    outputs = []\n",
    "\n",
    "    for layer in neural_network: #Remember the neural network is given as a list of \"layers\" which have neurons in them\n",
    "\n",
    "        input_with_bias = input_vector + [1]          # add a bias input (this just allos us to use a dot product)\n",
    "        output = [neuron_output(neuron, input_with_bias) # compute the output\n",
    "                  for neuron in layer]                   # for this layer\n",
    "        outputs.append(output)                           # and remember it\n",
    "\n",
    "        # the input to the next layer is the output of this one\n",
    "        input_vector = output\n",
    "\n",
    "    return outputs\n",
    "\n",
    "# define the back-propagation that allows the network to learn\n",
    "def backpropagate(network, input_vector, target):\n",
    "\n",
    "    hidden_outputs, outputs = feed_forward(network, input_vector)\n",
    "    \n",
    "    # the output * (1 - output) is from the derivative of sigmoid\n",
    "    output_deltas = [output * (1 - output) * (output - target[i])\n",
    "                     for i, output in enumerate(outputs)]\n",
    "                     \n",
    "    # adjust weights for output layer (network[-1])\n",
    "    for i, output_neuron in enumerate(network[-1]):\n",
    "        for j, hidden_output in enumerate(hidden_outputs + [1]):\n",
    "            output_neuron[j] -= output_deltas[i] * hidden_output\n",
    "\n",
    "    # back-propagate errors to hidden layer\n",
    "    hidden_deltas = [hidden_output * (1 - hidden_output) * \n",
    "                      np.dot(output_deltas, [n[i] for n in network[-1]]) \n",
    "                     for i, hidden_output in enumerate(hidden_outputs)]\n",
    "\n",
    "    # adjust weights for hidden layer (network[0])\n",
    "    for i, hidden_neuron in enumerate(network[0]):\n",
    "        for j, input in enumerate(input_vector + [1]):\n",
    "            hidden_neuron[j] -= hidden_deltas[i] * input"
   ]
  },
  {
   "cell_type": "code",
   "execution_count": 65,
   "metadata": {
    "collapsed": false
   },
   "outputs": [],
   "source": [
    "random.seed(0)   # to get repeatable results\n",
    "input_size = 8  # each input is a vector of length 8\n",
    "num_hidden = 5   # we'll have 5 neurons in the hidden layer\n",
    "output_size = 14 # we need 14 outputs for each input, since there are 14 possible places"
   ]
  },
  {
   "cell_type": "code",
   "execution_count": 66,
   "metadata": {
    "collapsed": false
   },
   "outputs": [],
   "source": [
    "# each hidden neuron has one weight per input, plus a bias weight\n",
    "hidden_layer = [[random.random() for __ in range(input_size + 1)]\n",
    "                    for __ in range(num_hidden)]"
   ]
  },
  {
   "cell_type": "code",
   "execution_count": 67,
   "metadata": {
    "collapsed": true
   },
   "outputs": [],
   "source": [
    "# each output neuron has one weight per hidden neuron, plus a bias weight\n",
    "output_layer = [[random.random() for __ in range(num_hidden + 1)]\n",
    "                    for __ in range(output_size)]"
   ]
  },
  {
   "cell_type": "code",
   "execution_count": 68,
   "metadata": {
    "collapsed": false
   },
   "outputs": [],
   "source": [
    "# the network starts out with random weights\n",
    "network = [hidden_layer, output_layer]"
   ]
  },
  {
   "cell_type": "markdown",
   "metadata": {},
   "source": [
    "Neural networks work best if values are standardized close to 0-1. So for the non-dummy variables, I'll standardize to mean=0, sd=1"
   ]
  },
  {
   "cell_type": "code",
   "execution_count": 69,
   "metadata": {
    "collapsed": true
   },
   "outputs": [],
   "source": [
    "# create a function to scale the data for us\n",
    "def scaleQueens(df):\n",
    "    \"\"\"Scale Age, Wins, Highs, Lows, and Lipsyncs in feature data frames\"\"\"\n",
    "    df = df.copy(deep=True)\n",
    "    df['Age'] = scale(df['Age'])\n",
    "    df['Wins'] = scale(df['Wins'])\n",
    "    df['Highs'] = scale(df['Highs'])\n",
    "    df['Lows'] = scale(df['Lows'])\n",
    "    df['Lipsyncs'] = scale(df['Lipsyncs'])\n",
    "    return df"
   ]
  },
  {
   "cell_type": "code",
   "execution_count": 70,
   "metadata": {
    "collapsed": false
   },
   "outputs": [
    {
     "name": "stderr",
     "output_type": "stream",
     "text": [
      "/Users/thomas/anaconda/lib/python3.5/site-packages/sklearn/utils/validation.py:420: DataConversionWarning: Data with input dtype int64 was converted to float64 by the scale function.\n",
      "  warnings.warn(msg, DataConversionWarning)\n"
     ]
    }
   ],
   "source": [
    "from sklearn.preprocessing import scale\n",
    "queensNN = queens\n",
    "#scale season for entire data set (I'll scale each subset of data individually for everything else)\n",
    "queensNN['Season'] = scale(queensNN['Season'])\n",
    "\n",
    "#dataset = zip(inputs_dig, targets_dig)"
   ]
  },
  {
   "cell_type": "code",
   "execution_count": 71,
   "metadata": {
    "collapsed": false
   },
   "outputs": [
    {
     "name": "stderr",
     "output_type": "stream",
     "text": [
      "/Users/thomas/anaconda/lib/python3.5/site-packages/sklearn/utils/validation.py:420: DataConversionWarning: Data with input dtype int64 was converted to float64 by the scale function.\n",
      "  warnings.warn(msg, DataConversionWarning)\n",
      "/Users/thomas/anaconda/lib/python3.5/site-packages/sklearn/utils/validation.py:420: DataConversionWarning: Data with input dtype int64 was converted to float64 by the scale function.\n",
      "  warnings.warn(msg, DataConversionWarning)\n",
      "/Users/thomas/anaconda/lib/python3.5/site-packages/sklearn/utils/validation.py:420: DataConversionWarning: Data with input dtype int64 was converted to float64 by the scale function.\n",
      "  warnings.warn(msg, DataConversionWarning)\n"
     ]
    }
   ],
   "source": [
    "XtrainNN = queensNN.loc[queens.Season<7,['Age','PuertoRico','PlusSize','Wins','Highs','Lows','Lipsyncs','Season']]\n",
    "XtrainNN = scaleQueens(XtrainNN)\n",
    "XtestNN = queensNN.loc[(queensNN.Season>1) & (queensNN.Season<1.5),['Age','PuertoRico','PlusSize','Wins','Highs','Lows','Lipsyncs','Season']]\n",
    "XtestNN = scaleQueens(XtestNN)\n",
    "ytrainNN = queensNN.loc[queens.Season<7,'Place']\n",
    "ytestNN = queensNN.loc[queens.Season==7,'Place']\n",
    "season8XNN = queensNN.loc[queensNN.Season>1.5,['Age','PuertoRico','PlusSize','Wins','Highs','Lows','Lipsyncs','Season']]\n",
    "season8XNN = scaleQueens(season8XNN)\n",
    "season8yNN = queensNN.loc[queens.Season==8,'Place']"
   ]
  },
  {
   "cell_type": "code",
   "execution_count": 72,
   "metadata": {
    "collapsed": false
   },
   "outputs": [],
   "source": [
    "yNN = [[1 if i == j else 0 for i in range(14)]\n",
    "               for j in ytrainNN ]\n",
    "XNN = XtrainNN.values.tolist()"
   ]
  },
  {
   "cell_type": "code",
   "execution_count": 73,
   "metadata": {
    "collapsed": false
   },
   "outputs": [],
   "source": [
    "\n",
    "for i in range(10000):\n",
    "    for input_vector, target_vector in zip(XNN, yNN):\n",
    "        backpropagate(network, input_vector, target_vector)"
   ]
  },
  {
   "cell_type": "code",
   "execution_count": 74,
   "metadata": {
    "collapsed": true
   },
   "outputs": [],
   "source": [
    "def predict(input):\n",
    "        return feed_forward(network, input)[-1]"
   ]
  },
  {
   "cell_type": "markdown",
   "metadata": {},
   "source": [
    "## Season 7 Predictions"
   ]
  },
  {
   "cell_type": "code",
   "execution_count": 75,
   "metadata": {
    "collapsed": false
   },
   "outputs": [],
   "source": [
    "X7NN = XtestNN.values.tolist()"
   ]
  },
  {
   "cell_type": "code",
   "execution_count": 76,
   "metadata": {
    "collapsed": false
   },
   "outputs": [],
   "source": [
    "predictedY = []\n",
    "for i, input in enumerate(X7NN):\n",
    "    outputs = predict(input)\n",
    "    predictedY.append(outputs)\n",
    "#for q in predictedY:\n",
    "#    print([round(a,2) for a in q])"
   ]
  },
  {
   "cell_type": "code",
   "execution_count": 77,
   "metadata": {
    "collapsed": false
   },
   "outputs": [
    {
     "data": {
      "text/html": [
       "<div>\n",
       "<table border=\"1\" class=\"dataframe\">\n",
       "  <thead>\n",
       "    <tr style=\"text-align: right;\">\n",
       "      <th></th>\n",
       "      <th>Name</th>\n",
       "      <th>Actual</th>\n",
       "      <th>Predicted</th>\n",
       "    </tr>\n",
       "  </thead>\n",
       "  <tbody>\n",
       "    <tr>\n",
       "      <th>13</th>\n",
       "      <td>Voilet Chachki</td>\n",
       "      <td>1</td>\n",
       "      <td>1</td>\n",
       "    </tr>\n",
       "    <tr>\n",
       "      <th>0</th>\n",
       "      <td>Ginger Minj</td>\n",
       "      <td>2</td>\n",
       "      <td>2</td>\n",
       "    </tr>\n",
       "    <tr>\n",
       "      <th>9</th>\n",
       "      <td>Pearl</td>\n",
       "      <td>3</td>\n",
       "      <td>3</td>\n",
       "    </tr>\n",
       "    <tr>\n",
       "      <th>5</th>\n",
       "      <td>Kennedy Davenport</td>\n",
       "      <td>4</td>\n",
       "      <td>4</td>\n",
       "    </tr>\n",
       "    <tr>\n",
       "      <th>4</th>\n",
       "      <td>Katya</td>\n",
       "      <td>5</td>\n",
       "      <td>4</td>\n",
       "    </tr>\n",
       "    <tr>\n",
       "      <th>12</th>\n",
       "      <td>Trixie Mattel</td>\n",
       "      <td>6</td>\n",
       "      <td>6</td>\n",
       "    </tr>\n",
       "    <tr>\n",
       "      <th>7</th>\n",
       "      <td>Miss Fame</td>\n",
       "      <td>7</td>\n",
       "      <td>9</td>\n",
       "    </tr>\n",
       "    <tr>\n",
       "      <th>1</th>\n",
       "      <td>Jaidynn Diore Fierce</td>\n",
       "      <td>8</td>\n",
       "      <td>6</td>\n",
       "    </tr>\n",
       "    <tr>\n",
       "      <th>6</th>\n",
       "      <td>Max</td>\n",
       "      <td>9</td>\n",
       "      <td>8</td>\n",
       "    </tr>\n",
       "    <tr>\n",
       "      <th>3</th>\n",
       "      <td>Kandy Ho</td>\n",
       "      <td>10</td>\n",
       "      <td>9</td>\n",
       "    </tr>\n",
       "    <tr>\n",
       "      <th>8</th>\n",
       "      <td>Mrs. Kasha Davis</td>\n",
       "      <td>11</td>\n",
       "      <td>9</td>\n",
       "    </tr>\n",
       "    <tr>\n",
       "      <th>2</th>\n",
       "      <td>Jasmine Masters</td>\n",
       "      <td>12</td>\n",
       "      <td>9</td>\n",
       "    </tr>\n",
       "    <tr>\n",
       "      <th>10</th>\n",
       "      <td>Sasha Belle</td>\n",
       "      <td>13</td>\n",
       "      <td>9</td>\n",
       "    </tr>\n",
       "    <tr>\n",
       "      <th>11</th>\n",
       "      <td>Tempest DuJour</td>\n",
       "      <td>14</td>\n",
       "      <td>9</td>\n",
       "    </tr>\n",
       "  </tbody>\n",
       "</table>\n",
       "</div>"
      ],
      "text/plain": [
       "                    Name  Actual  Predicted\n",
       "13        Voilet Chachki       1          1\n",
       "0            Ginger Minj       2          2\n",
       "9                  Pearl       3          3\n",
       "5      Kennedy Davenport       4          4\n",
       "4                  Katya       5          4\n",
       "12         Trixie Mattel       6          6\n",
       "7              Miss Fame       7          9\n",
       "1   Jaidynn Diore Fierce       8          6\n",
       "6                    Max       9          8\n",
       "3               Kandy Ho      10          9\n",
       "8       Mrs. Kasha Davis      11          9\n",
       "2        Jasmine Masters      12          9\n",
       "10           Sasha Belle      13          9\n",
       "11        Tempest DuJour      14          9"
      ]
     },
     "execution_count": 77,
     "metadata": {},
     "output_type": "execute_result"
    }
   ],
   "source": [
    "predictedPlace = [a.index(max(a)) for a in predictedY]\n",
    "predictedPlace = rankdata(predictedPlace,method='min')\n",
    "season7NN = season7\n",
    "season7NN['Predicted'] = predictedPlace\n",
    "season7NN.sort_values('Actual')"
   ]
  },
  {
   "cell_type": "code",
   "execution_count": 78,
   "metadata": {
    "collapsed": false
   },
   "outputs": [
    {
     "data": {
      "text/plain": [
       "KendalltauResult(correlation=0.8530244589991115, pvalue=2.1416755669110968e-05)"
      ]
     },
     "execution_count": 78,
     "metadata": {},
     "output_type": "execute_result"
    }
   ],
   "source": [
    "kendalltau(season7NN.Actual,season7NN.Predicted)"
   ]
  },
  {
   "cell_type": "code",
   "execution_count": 79,
   "metadata": {
    "collapsed": false
   },
   "outputs": [
    {
     "data": {
      "text/plain": [
       "0.85714285714285721"
      ]
     },
     "execution_count": 79,
     "metadata": {},
     "output_type": "execute_result"
    }
   ],
   "source": [
    "compareRanks(season7NN.Actual,season7NN.Predicted)"
   ]
  },
  {
   "cell_type": "markdown",
   "metadata": {},
   "source": [
    "## Season 8 Predictions"
   ]
  },
  {
   "cell_type": "code",
   "execution_count": 80,
   "metadata": {
    "collapsed": false
   },
   "outputs": [
    {
     "name": "stdout",
     "output_type": "stream",
     "text": [
      "[1.0, 0.0, 0.0, 0.0, 0.0, 0.03, 0.0, 0.0, 0.0, 1.0, 0.0, 0.0, 0.0, 0.0]\n",
      "[0.02, 1.0, 0.0, 0.01, 0.0, 0.0, 0.0, 0.0, 0.0, 0.0, 0.0, 0.0, 0.0, 0.0]\n",
      "[0.01, 0.0, 0.0, 0.06, 0.39, 0.0, 0.0, 0.0, 0.0, 0.0, 0.0, 0.02, 0.0, 0.0]\n",
      "[0.0, 0.0, 0.0, 0.0, 0.0, 0.0, 0.1, 0.0, 0.0, 0.09, 0.05, 0.23, 0.05, 0.0]\n",
      "[0.0, 0.0, 0.0, 0.0, 0.0, 0.0, 0.0, 0.01, 0.07, 0.16, 0.13, 0.12, 0.23, 0.37]\n",
      "[0.0, 0.0, 0.0, 0.02, 0.88, 0.0, 0.0, 0.0, 0.0, 0.0, 0.0, 0.0, 0.0, 0.0]\n",
      "[0.13, 1.0, 0.0, 0.0, 0.0, 0.0, 0.0, 0.0, 0.0, 0.0, 0.0, 0.0, 0.0, 0.0]\n",
      "[0.0, 0.0, 0.0, 0.0, 0.0, 0.0, 0.0, 0.0, 0.92, 0.0, 0.0, 0.02, 0.0, 0.0]\n",
      "[1.0, 0.0, 0.0, 0.0, 0.04, 0.0, 0.0, 0.0, 0.0, 0.5, 0.0, 0.0, 0.0, 0.0]\n",
      "[0.0, 0.0, 0.0, 0.0, 0.0, 0.0, 0.1, 0.0, 0.0, 0.08, 0.05, 0.23, 0.05, 0.0]\n",
      "[0.0, 0.0, 0.0, 0.0, 0.0, 0.0, 0.0, 0.0, 0.0, 0.01, 0.0, 0.03, 0.0, 0.0]\n",
      "[0.0, 0.0, 0.0, 0.0, 0.0, 0.0, 0.1, 0.0, 0.0, 0.08, 0.05, 0.23, 0.05, 0.0]\n"
     ]
    }
   ],
   "source": [
    "season8XNN['Wins'] = scale(season8XNN['Wins'])\n",
    "season8XNN['Highs'] = scale(season8XNN['Highs'])\n",
    "season8XNN['Lows'] = scale(season8XNN['Lows'])\n",
    "season8XNN['Lipsyncs'] = scale(season8XNN['Lipsyncs'])\n",
    "X8NN = season8XNN.values.tolist()\n",
    "predictedY = []\n",
    "for i, input in enumerate(X8NN):\n",
    "    outputs = predict(input)\n",
    "    predictedY.append(outputs)\n",
    "for q in predictedY:\n",
    "    print([round(a,2) for a in q])"
   ]
  },
  {
   "cell_type": "code",
   "execution_count": 81,
   "metadata": {
    "collapsed": false
   },
   "outputs": [
    {
     "data": {
      "text/plain": [
       "[9, 1, 4, 11, 13, 4, 1, 8, 0, 11, 11, 11]"
      ]
     },
     "execution_count": 81,
     "metadata": {},
     "output_type": "execute_result"
    }
   ],
   "source": [
    "[a.index(max(a)) for a in predictedY]"
   ]
  },
  {
   "cell_type": "code",
   "execution_count": 82,
   "metadata": {
    "collapsed": false
   },
   "outputs": [
    {
     "data": {
      "text/html": [
       "<div>\n",
       "<table border=\"1\" class=\"dataframe\">\n",
       "  <thead>\n",
       "    <tr style=\"text-align: right;\">\n",
       "      <th></th>\n",
       "      <th>Name</th>\n",
       "      <th>Actual</th>\n",
       "      <th>Predicted</th>\n",
       "    </tr>\n",
       "  </thead>\n",
       "  <tbody>\n",
       "    <tr>\n",
       "      <th>8</th>\n",
       "      <td>Naomi Smalls</td>\n",
       "      <td>0</td>\n",
       "      <td>1</td>\n",
       "    </tr>\n",
       "    <tr>\n",
       "      <th>1</th>\n",
       "      <td>Bob the Drag Queen</td>\n",
       "      <td>0</td>\n",
       "      <td>2</td>\n",
       "    </tr>\n",
       "    <tr>\n",
       "      <th>6</th>\n",
       "      <td>Kim Chi</td>\n",
       "      <td>0</td>\n",
       "      <td>2</td>\n",
       "    </tr>\n",
       "    <tr>\n",
       "      <th>2</th>\n",
       "      <td>Chi Chi DeVayne</td>\n",
       "      <td>4</td>\n",
       "      <td>4</td>\n",
       "    </tr>\n",
       "    <tr>\n",
       "      <th>5</th>\n",
       "      <td>Derrick Barry</td>\n",
       "      <td>5</td>\n",
       "      <td>4</td>\n",
       "    </tr>\n",
       "    <tr>\n",
       "      <th>7</th>\n",
       "      <td>Laila McQueen</td>\n",
       "      <td>11</td>\n",
       "      <td>6</td>\n",
       "    </tr>\n",
       "    <tr>\n",
       "      <th>0</th>\n",
       "      <td>Acid Betty</td>\n",
       "      <td>8</td>\n",
       "      <td>7</td>\n",
       "    </tr>\n",
       "    <tr>\n",
       "      <th>3</th>\n",
       "      <td>Cynthia Lee Fontaine</td>\n",
       "      <td>10</td>\n",
       "      <td>8</td>\n",
       "    </tr>\n",
       "    <tr>\n",
       "      <th>9</th>\n",
       "      <td>Naysha Lopez</td>\n",
       "      <td>9</td>\n",
       "      <td>8</td>\n",
       "    </tr>\n",
       "    <tr>\n",
       "      <th>10</th>\n",
       "      <td>Robbie Turner</td>\n",
       "      <td>7</td>\n",
       "      <td>8</td>\n",
       "    </tr>\n",
       "    <tr>\n",
       "      <th>11</th>\n",
       "      <td>Thorgy Thor</td>\n",
       "      <td>6</td>\n",
       "      <td>8</td>\n",
       "    </tr>\n",
       "    <tr>\n",
       "      <th>4</th>\n",
       "      <td>Dax ExclamationPoint</td>\n",
       "      <td>11</td>\n",
       "      <td>12</td>\n",
       "    </tr>\n",
       "  </tbody>\n",
       "</table>\n",
       "</div>"
      ],
      "text/plain": [
       "                    Name  Actual  Predicted\n",
       "8           Naomi Smalls       0          1\n",
       "1     Bob the Drag Queen       0          2\n",
       "6                Kim Chi       0          2\n",
       "2        Chi Chi DeVayne       4          4\n",
       "5          Derrick Barry       5          4\n",
       "7          Laila McQueen      11          6\n",
       "0             Acid Betty       8          7\n",
       "3   Cynthia Lee Fontaine      10          8\n",
       "9           Naysha Lopez       9          8\n",
       "10         Robbie Turner       7          8\n",
       "11           Thorgy Thor       6          8\n",
       "4   Dax ExclamationPoint      11         12"
      ]
     },
     "execution_count": 82,
     "metadata": {},
     "output_type": "execute_result"
    }
   ],
   "source": [
    "predictedPlace = [a.index(max(a)) for a in predictedY]\n",
    "predictedPlace = rankdata(predictedPlace,method='min')\n",
    "season8NN = season8\n",
    "season8NN['Predicted'] = predictedPlace\n",
    "season8NN = season8NN.sort_values('Predicted')\n",
    "season8NN"
   ]
  },
  {
   "cell_type": "code",
   "execution_count": 83,
   "metadata": {
    "collapsed": false
   },
   "outputs": [
    {
     "data": {
      "text/plain": [
       "KendalltauResult(correlation=0.43943537440204117, pvalue=0.099083132728722628)"
      ]
     },
     "execution_count": 83,
     "metadata": {},
     "output_type": "execute_result"
    }
   ],
   "source": [
    "season8tau = season8NN.loc[season8NN.Actual!=0,:]\n",
    "kendalltau(season8tau.Actual,season8tau.Predicted)"
   ]
  },
  {
   "cell_type": "code",
   "execution_count": 84,
   "metadata": {
    "collapsed": false
   },
   "outputs": [
    {
     "data": {
      "text/plain": [
       "0.63809523809523805"
      ]
     },
     "execution_count": 84,
     "metadata": {},
     "output_type": "execute_result"
    }
   ],
   "source": [
    "compareRanks(season8tau.Actual,season8tau.Predicted)"
   ]
  }
 ],
 "metadata": {
  "kernelspec": {
   "display_name": "Python [default]",
   "language": "python",
   "name": "python3"
  },
  "language_info": {
   "codemirror_mode": {
    "name": "ipython",
    "version": 3
   },
   "file_extension": ".py",
   "mimetype": "text/x-python",
   "name": "python",
   "nbconvert_exporter": "python",
   "pygments_lexer": "ipython3",
   "version": "3.5.2"
  }
 },
 "nbformat": 4,
 "nbformat_minor": 0
}
