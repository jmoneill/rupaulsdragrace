{
 "cells": [
  {
   "cell_type": "markdown",
   "metadata": {},
   "source": [
    "# Rupaul's Drag Race Machine"
   ]
  },
  {
   "cell_type": "code",
   "execution_count": 1,
   "metadata": {
    "collapsed": false
   },
   "outputs": [],
   "source": [
    "#%matplotlib inline\n",
    "\n",
    "import pandas as pd\n",
    "import numpy as np\n",
    "import math, random\n",
    "from scipy.stats import rankdata, kendalltau\n",
    "from sklearn.preprocessing import scale\n",
    "import matplotlib.pyplot as plt\n",
    "\n",
    "theData = pd.read_csv(\"dragrace9.csv\")\n",
    "theData= theData.fillna(0)\n",
    "#theData.iloc[1:10,:]"
   ]
  },
  {
   "cell_type": "code",
   "execution_count": 2,
   "metadata": {
    "collapsed": false
   },
   "outputs": [
    {
     "data": {
      "text/plain": [
       "(114, 17)"
      ]
     },
     "execution_count": 2,
     "metadata": {},
     "output_type": "execute_result"
    }
   ],
   "source": [
    "queens = theData\n",
    "queens.shape"
   ]
  },
  {
   "cell_type": "code",
   "execution_count": 30,
   "metadata": {
    "collapsed": true
   },
   "outputs": [],
   "source": [
    "# create a function to scale the data for us\n",
    "def scaleQueens(df):\n",
    "    \"\"\"Scale Age, Wins, Highs, Lows, and Lipsyncs in feature data frames\"\"\"\n",
    "    df = df.copy(deep=True)\n",
    "    df['Age'] = scale(df['Age'])\n",
    "    df['Wins'] = scale(df['Wins'])\n",
    "    df['Highs'] = scale(df['Highs'])\n",
    "    df['Lows'] = scale(df['Lows'])\n",
    "    df['Lipsyncs'] = scale(df['Lipsyncs'])\n",
    "    df['Season'] = df['Season']/9\n",
    "    return df"
   ]
  },
  {
   "cell_type": "code",
   "execution_count": 5,
   "metadata": {
    "collapsed": true
   },
   "outputs": [],
   "source": [
    "def compareRanks(x,y):\n",
    "    x=np.asarray(x)\n",
    "    y=np.asarray(y)\n",
    "    numRanks = np.append(x,y).max()\n",
    "    actual=np.sum(np.square(x-y))\n",
    "    worst=np.sum(np.square(np.sort(x)-np.sort(x)[::-1]))\n",
    "    return 1-2*(actual/worst)"
   ]
  },
  {
   "cell_type": "code",
   "execution_count": 6,
   "metadata": {
    "collapsed": true
   },
   "outputs": [],
   "source": [
    "def createPD(s,queens,yfitpd):\n",
    "    season = queens.loc[queens.Season==s,['Name','Place']]\n",
    "    seasonpred = yfitpd.loc[queens.Season==s]\n",
    "    season['Predicted'] = seasonpred\n",
    "    season['Predicted'] = rankdata(season.Predicted,method='min')\n",
    "    season = season.sort_values('Place')\n",
    "    return season"
   ]
  },
  {
   "cell_type": "code",
   "execution_count": 10,
   "metadata": {
    "collapsed": false
   },
   "outputs": [],
   "source": [
    "def predictSeason(season,model,queens,scaled=False):\n",
    "    if scaled:\n",
    "        df = scaleQueens(queens)\n",
    "        s = season/9\n",
    "    else:\n",
    "        df = queens\n",
    "        s = season\n",
    "    Xtrain = df.loc[df.Season!=s,['Age','PuertoRico','PlusSize','Wins','Highs','Lows','Lipsyncs','Season']]\n",
    "    Xtest = df.loc[df.Season==s,['Age','PuertoRico','PlusSize','Wins','Highs','Lows','Lipsyncs','Season']]\n",
    "    ytrain = df.loc[df.Season!=s,'Place']\n",
    "    model.fit(Xtrain,ytrain)\n",
    "    yfit = model.predict(Xtest)\n",
    "    pddf = queens.loc[queens.Season==season,['Name','Place']]\n",
    "    pddf['Predicted'] = rankdata(yfit,method='min')\n",
    "    return pddf"
   ]
  },
  {
   "cell_type": "code",
   "execution_count": 11,
   "metadata": {
    "collapsed": true
   },
   "outputs": [],
   "source": [
    "\n",
    "class neural_network:\n",
    "    \"\"\"Defines a neural network, along with attributes for fitting and predicting the network\"\"\"\n",
    "    def __init__(self,size):\n",
    "        random.seed(0)\n",
    "        self.network = []\n",
    "        for i in range(1,len(size)):\n",
    "            self.network.append([[random.random() for __ in range(size[i-1] + 1)] for __ in range(size[i])])\n",
    "    \n",
    "    def sigmoid(self,t): \n",
    "        return 1 / (1 + math.exp(-t))\n",
    "    \n",
    "    def neuron_output(self,weights, inputs):   #This is a simpler representation; weights for input plus one extra (bias)\n",
    "        return self.sigmoid(np.dot(weights, inputs))\n",
    "    \n",
    "    def feed_forward(self,input_vector):\n",
    "        outputs = []\n",
    "\n",
    "        for layer in self.network: #Remember the neural network is given as a list of \"layers\" which have neurons in them\n",
    "\n",
    "            input_with_bias = input_vector + [1]          # add a bias input (this just allos us to use a dot product)\n",
    "            output = [self.neuron_output(neuron, input_with_bias) # compute the output\n",
    "                      for neuron in layer]                   # for this layer\n",
    "            outputs.append(output)                           # and remember it\n",
    "\n",
    "            # the input to the next layer is the output of this one\n",
    "            input_vector = output\n",
    "\n",
    "        return outputs\n",
    "    \n",
    "    def predict(self,X):\n",
    "        X = scaleQueens(X)\n",
    "        predictedY = []\n",
    "        X = X.values.tolist()\n",
    "        for i, input in enumerate(X):\n",
    "            outputs = self.feed_forward(input)[-1]\n",
    "            predictedY.append(outputs)\n",
    "        predictedPlace = [a.index(max(a)) for a in predictedY]\n",
    "        return predictedPlace\n",
    "    \n",
    "    \n",
    "    def convertY(self,Y):\n",
    "        yNN = [[1 if i == (j-1) else 0 for i in range(0,len(Y)-1)]\n",
    "               for j in Y ]\n",
    "        return(yNN)\n",
    "    \n",
    "    # define the back-propagation that allows the network to learn\n",
    "    def backpropagate(self, input_vector, target):\n",
    "        hidden_outputs, outputs = self.feed_forward(input_vector)\n",
    "\n",
    "        # the output * (1 - output) is from the derivative of sigmoid\n",
    "        output_deltas = [output * (1 - output) * (output - target[i])\n",
    "                         for i, output in enumerate(outputs)]\n",
    "\n",
    "        # adjust weights for output layer (network[-1])\n",
    "        for i, output_neuron in enumerate(self.network[-1]):\n",
    "            for j, hidden_output in enumerate(hidden_outputs + [1]):\n",
    "                output_neuron[j] -= output_deltas[i] * hidden_output\n",
    "\n",
    "        # back-propagate errors to hidden layer\n",
    "        hidden_deltas = [hidden_output * (1 - hidden_output) * \n",
    "                          np.dot(output_deltas, [n[i] for n in self.network[-1]]) \n",
    "                         for i, hidden_output in enumerate(hidden_outputs)]\n",
    "\n",
    "        # adjust weights for hidden layer (network[0])\n",
    "        for i, hidden_neuron in enumerate(self.network[0]):\n",
    "            for j, input in enumerate(input_vector + [1]):\n",
    "                hidden_neuron[j] -= hidden_deltas[i] * input\n",
    "    \n",
    "    def fit(self,features,targets,times=10000):\n",
    "        features = scaleQueens(features)\n",
    "        targets = self.convertY(targets)\n",
    "        features = features.values.tolist()\n",
    "        for i in range(times):\n",
    "            for X, Y in zip(features, targets):\n",
    "                self.backpropagate(X,Y)\n",
    "        \n",
    "        \n",
    "        "
   ]
  },
  {
   "cell_type": "markdown",
   "metadata": {},
   "source": [
    "Initialize the models"
   ]
  },
  {
   "cell_type": "code",
   "execution_count": 14,
   "metadata": {
    "collapsed": true
   },
   "outputs": [],
   "source": [
    "from sklearn.svm import SVC\n",
    "from sklearn.naive_bayes import GaussianNB\n",
    "from sklearn.ensemble import RandomForestClassifier\n",
    "from sklearn.ensemble import RandomForestRegressor\n",
    "\n",
    "svc_model = SVC(kernel='rbf',gamma=0.01,C=10)\n",
    "gnb_model = GaussianNB()\n",
    "rfc_model = RandomForestClassifier(n_estimators=100, random_state=0)\n",
    "rfr_model = RandomForestRegressor(200,random_state=24601)\n",
    "nn_model = neural_network([8,5,14])"
   ]
  },
  {
   "cell_type": "markdown",
   "metadata": {},
   "source": [
    "Have each model predict the rankings and save to a data frame\n",
    "\n",
    "**Todo**\n",
    "\n",
    "- Switch to sklearn's neural network\n",
    "- Utilize multicores when possible"
   ]
  },
  {
   "cell_type": "code",
   "execution_count": 51,
   "metadata": {
    "collapsed": false
   },
   "outputs": [
    {
     "name": "stderr",
     "output_type": "stream",
     "text": [
      "//anaconda/lib/python3.5/site-packages/sklearn/utils/validation.py:420: DataConversionWarning: Data with input dtype int64 was converted to float64 by the scale function.\n",
      "  warnings.warn(msg, DataConversionWarning)\n",
      "//anaconda/lib/python3.5/site-packages/sklearn/utils/validation.py:420: DataConversionWarning: Data with input dtype int64 was converted to float64 by the scale function.\n",
      "  warnings.warn(msg, DataConversionWarning)\n",
      "//anaconda/lib/python3.5/site-packages/sklearn/utils/validation.py:420: DataConversionWarning: Data with input dtype int64 was converted to float64 by the scale function.\n",
      "  warnings.warn(msg, DataConversionWarning)\n",
      "//anaconda/lib/python3.5/site-packages/sklearn/utils/validation.py:420: DataConversionWarning: Data with input dtype int64 was converted to float64 by the scale function.\n",
      "  warnings.warn(msg, DataConversionWarning)\n",
      "//anaconda/lib/python3.5/site-packages/sklearn/utils/validation.py:420: DataConversionWarning: Data with input dtype int64 was converted to float64 by the scale function.\n",
      "  warnings.warn(msg, DataConversionWarning)\n",
      "//anaconda/lib/python3.5/site-packages/sklearn/preprocessing/data.py:184: UserWarning: Numerical issues were encountered when scaling the data and might not be solved. The standard deviation of the data is probably very close to 0. \n",
      "  warnings.warn(\"Numerical issues were encountered \"\n"
     ]
    }
   ],
   "source": [
    "the_models = [gnb_model,rfc_model,rfr_model,nn_model]\n",
    "model_names = [\"GNB\",\"RFC\",\"RFR\",\"NN\"]\n",
    "season = predictSeason(9,svc_model,queens,True)\n",
    "season['Season'] = 9\n",
    "season['Model'] = 'SVC'\n",
    "rank_score = compareRanks(season.Place,season.Predicted)\n",
    "rsdf = pd.DataFrame({'Season': [9], 'Value': [rank_score], 'Model': ['SVM']})\n",
    "pred_df = season\n",
    "rank_scores = rsdf.copy(deep=True)\n",
    "n = 0\n",
    "for model in the_models:\n",
    "    season = predictSeason(9,model,queens,True)\n",
    "    season['Season'] = 9\n",
    "    season['Model'] = model_names[n]\n",
    "    pred_df = pred_df.append(season)\n",
    "    rank_score = compareRanks(season.Place,season.Predicted)\n",
    "    rsdf = pd.DataFrame({'Season': [9], 'Value': [rank_score], 'Model': [model_names[n]]})\n",
    "    rank_scores = rank_scores.append(rsdf)\n",
    "    n += 1\n"
   ]
  },
  {
   "cell_type": "code",
   "execution_count": null,
   "metadata": {
    "collapsed": true
   },
   "outputs": [],
   "source": []
  },
  {
   "cell_type": "code",
   "execution_count": 64,
   "metadata": {
    "collapsed": false
   },
   "outputs": [],
   "source": [
    "resultsTable = pred_df.pivot_table(index=('Name','Place','Season'),columns='Model').sortlevel(['Season','Place'])"
   ]
  },
  {
   "cell_type": "code",
   "execution_count": 65,
   "metadata": {
    "collapsed": false
   },
   "outputs": [],
   "source": [
    "resultsTable['mean'] = resultsTable.mean(axis=1)\n",
    "resultsTable.to_csv('PredictedSeason9.csv')"
   ]
  },
  {
   "cell_type": "code",
   "execution_count": 63,
   "metadata": {
    "collapsed": false
   },
   "outputs": [
    {
     "data": {
      "text/html": [
       "<div>\n",
       "<table border=\"1\" class=\"dataframe\">\n",
       "  <thead>\n",
       "    <tr>\n",
       "      <th></th>\n",
       "      <th></th>\n",
       "      <th></th>\n",
       "      <th colspan=\"5\" halign=\"left\">Predicted</th>\n",
       "      <th>mean</th>\n",
       "    </tr>\n",
       "    <tr>\n",
       "      <th></th>\n",
       "      <th></th>\n",
       "      <th>Model</th>\n",
       "      <th>GNB</th>\n",
       "      <th>NN</th>\n",
       "      <th>RFC</th>\n",
       "      <th>RFR</th>\n",
       "      <th>SVC</th>\n",
       "      <th></th>\n",
       "    </tr>\n",
       "    <tr>\n",
       "      <th>Name</th>\n",
       "      <th>Place</th>\n",
       "      <th>Season</th>\n",
       "      <th></th>\n",
       "      <th></th>\n",
       "      <th></th>\n",
       "      <th></th>\n",
       "      <th></th>\n",
       "      <th></th>\n",
       "    </tr>\n",
       "  </thead>\n",
       "  <tbody>\n",
       "    <tr>\n",
       "      <th>Alexis Michelle</th>\n",
       "      <th>0.0</th>\n",
       "      <th>9</th>\n",
       "      <td>4</td>\n",
       "      <td>1</td>\n",
       "      <td>1</td>\n",
       "      <td>5</td>\n",
       "      <td>5</td>\n",
       "      <td>3.2</td>\n",
       "    </tr>\n",
       "    <tr>\n",
       "      <th>Eureka</th>\n",
       "      <th>0.0</th>\n",
       "      <th>9</th>\n",
       "      <td>1</td>\n",
       "      <td>12</td>\n",
       "      <td>1</td>\n",
       "      <td>2</td>\n",
       "      <td>1</td>\n",
       "      <td>3.4</td>\n",
       "    </tr>\n",
       "    <tr>\n",
       "      <th>Trinity Taylor</th>\n",
       "      <th>0.0</th>\n",
       "      <th>9</th>\n",
       "      <td>4</td>\n",
       "      <td>1</td>\n",
       "      <td>1</td>\n",
       "      <td>6</td>\n",
       "      <td>5</td>\n",
       "      <td>3.4</td>\n",
       "    </tr>\n",
       "    <tr>\n",
       "      <th>Nina Bo'Nina Brown</th>\n",
       "      <th>0.0</th>\n",
       "      <th>9</th>\n",
       "      <td>4</td>\n",
       "      <td>1</td>\n",
       "      <td>1</td>\n",
       "      <td>7</td>\n",
       "      <td>5</td>\n",
       "      <td>3.6</td>\n",
       "    </tr>\n",
       "    <tr>\n",
       "      <th>Farrah Moan</th>\n",
       "      <th>0.0</th>\n",
       "      <th>9</th>\n",
       "      <td>4</td>\n",
       "      <td>9</td>\n",
       "      <td>1</td>\n",
       "      <td>3</td>\n",
       "      <td>3</td>\n",
       "      <td>4.0</td>\n",
       "    </tr>\n",
       "    <tr>\n",
       "      <th>Sasha Velour</th>\n",
       "      <th>0.0</th>\n",
       "      <th>9</th>\n",
       "      <td>4</td>\n",
       "      <td>1</td>\n",
       "      <td>1</td>\n",
       "      <td>9</td>\n",
       "      <td>5</td>\n",
       "      <td>4.0</td>\n",
       "    </tr>\n",
       "    <tr>\n",
       "      <th>Valentina</th>\n",
       "      <th>0.0</th>\n",
       "      <th>9</th>\n",
       "      <td>4</td>\n",
       "      <td>9</td>\n",
       "      <td>1</td>\n",
       "      <td>1</td>\n",
       "      <td>5</td>\n",
       "      <td>4.0</td>\n",
       "    </tr>\n",
       "    <tr>\n",
       "      <th>Aja</th>\n",
       "      <th>0.0</th>\n",
       "      <th>9</th>\n",
       "      <td>4</td>\n",
       "      <td>9</td>\n",
       "      <td>1</td>\n",
       "      <td>4</td>\n",
       "      <td>3</td>\n",
       "      <td>4.2</td>\n",
       "    </tr>\n",
       "    <tr>\n",
       "      <th>Shea Coulee</th>\n",
       "      <th>0.0</th>\n",
       "      <th>9</th>\n",
       "      <td>4</td>\n",
       "      <td>1</td>\n",
       "      <td>1</td>\n",
       "      <td>10</td>\n",
       "      <td>5</td>\n",
       "      <td>4.2</td>\n",
       "    </tr>\n",
       "    <tr>\n",
       "      <th>Kimora Blac</th>\n",
       "      <th>0.0</th>\n",
       "      <th>9</th>\n",
       "      <td>4</td>\n",
       "      <td>1</td>\n",
       "      <td>1</td>\n",
       "      <td>11</td>\n",
       "      <td>5</td>\n",
       "      <td>4.4</td>\n",
       "    </tr>\n",
       "    <tr>\n",
       "      <th>Jaymes Mansfield</th>\n",
       "      <th>0.0</th>\n",
       "      <th>9</th>\n",
       "      <td>1</td>\n",
       "      <td>12</td>\n",
       "      <td>1</td>\n",
       "      <td>8</td>\n",
       "      <td>1</td>\n",
       "      <td>4.6</td>\n",
       "    </tr>\n",
       "    <tr>\n",
       "      <th>Peppermint</th>\n",
       "      <th>0.0</th>\n",
       "      <th>9</th>\n",
       "      <td>4</td>\n",
       "      <td>1</td>\n",
       "      <td>12</td>\n",
       "      <td>12</td>\n",
       "      <td>5</td>\n",
       "      <td>6.8</td>\n",
       "    </tr>\n",
       "    <tr>\n",
       "      <th>Charlie Hides</th>\n",
       "      <th>0.0</th>\n",
       "      <th>9</th>\n",
       "      <td>3</td>\n",
       "      <td>8</td>\n",
       "      <td>12</td>\n",
       "      <td>13</td>\n",
       "      <td>13</td>\n",
       "      <td>9.8</td>\n",
       "    </tr>\n",
       "  </tbody>\n",
       "</table>\n",
       "</div>"
      ],
      "text/plain": [
       "                                Predicted                 mean\n",
       "Model                                 GNB  NN RFC RFR SVC     \n",
       "Name               Place Season                               \n",
       "Alexis Michelle    0.0   9              4   1   1   5   5  3.2\n",
       "Eureka             0.0   9              1  12   1   2   1  3.4\n",
       "Trinity Taylor     0.0   9              4   1   1   6   5  3.4\n",
       "Nina Bo'Nina Brown 0.0   9              4   1   1   7   5  3.6\n",
       "Farrah Moan        0.0   9              4   9   1   3   3  4.0\n",
       "Sasha Velour       0.0   9              4   1   1   9   5  4.0\n",
       "Valentina          0.0   9              4   9   1   1   5  4.0\n",
       "Aja                0.0   9              4   9   1   4   3  4.2\n",
       "Shea Coulee        0.0   9              4   1   1  10   5  4.2\n",
       "Kimora Blac        0.0   9              4   1   1  11   5  4.4\n",
       "Jaymes Mansfield   0.0   9              1  12   1   8   1  4.6\n",
       "Peppermint         0.0   9              4   1  12  12   5  6.8\n",
       "Charlie Hides      0.0   9              3   8  12  13  13  9.8"
      ]
     },
     "execution_count": 63,
     "metadata": {},
     "output_type": "execute_result"
    }
   ],
   "source": [
    "resultsTable.sort_values(by='mean')"
   ]
  },
  {
   "cell_type": "code",
   "execution_count": 70,
   "metadata": {
    "collapsed": false
   },
   "outputs": [
    {
     "data": {
      "text/html": [
       "<div>\n",
       "<table border=\"1\" class=\"dataframe\">\n",
       "  <thead>\n",
       "    <tr style=\"text-align: right;\">\n",
       "      <th></th>\n",
       "      <th>Model</th>\n",
       "      <th>Season</th>\n",
       "      <th>Value</th>\n",
       "    </tr>\n",
       "  </thead>\n",
       "  <tbody>\n",
       "    <tr>\n",
       "      <th>0</th>\n",
       "      <td>SVM</td>\n",
       "      <td>9</td>\n",
       "      <td>-inf</td>\n",
       "    </tr>\n",
       "    <tr>\n",
       "      <th>0</th>\n",
       "      <td>GNB</td>\n",
       "      <td>9</td>\n",
       "      <td>-inf</td>\n",
       "    </tr>\n",
       "    <tr>\n",
       "      <th>0</th>\n",
       "      <td>RFC</td>\n",
       "      <td>9</td>\n",
       "      <td>-inf</td>\n",
       "    </tr>\n",
       "    <tr>\n",
       "      <th>0</th>\n",
       "      <td>RFR</td>\n",
       "      <td>9</td>\n",
       "      <td>-inf</td>\n",
       "    </tr>\n",
       "    <tr>\n",
       "      <th>0</th>\n",
       "      <td>NN</td>\n",
       "      <td>9</td>\n",
       "      <td>-inf</td>\n",
       "    </tr>\n",
       "  </tbody>\n",
       "</table>\n",
       "</div>"
      ],
      "text/plain": [
       "  Model  Season  Value\n",
       "0   SVM       9   -inf\n",
       "0   GNB       9   -inf\n",
       "0   RFC       9   -inf\n",
       "0   RFR       9   -inf\n",
       "0    NN       9   -inf"
      ]
     },
     "execution_count": 70,
     "metadata": {},
     "output_type": "execute_result"
    }
   ],
   "source": [
    "rank_scores"
   ]
  },
  {
   "cell_type": "code",
   "execution_count": null,
   "metadata": {
    "collapsed": true
   },
   "outputs": [],
   "source": []
  }
 ],
 "metadata": {
  "anaconda-cloud": {},
  "kernelspec": {
   "display_name": "Python [default]",
   "language": "python",
   "name": "python3"
  },
  "language_info": {
   "codemirror_mode": {
    "name": "ipython",
    "version": 3
   },
   "file_extension": ".py",
   "mimetype": "text/x-python",
   "name": "python",
   "nbconvert_exporter": "python",
   "pygments_lexer": "ipython3",
   "version": "3.5.2"
  }
 },
 "nbformat": 4,
 "nbformat_minor": 0
}
